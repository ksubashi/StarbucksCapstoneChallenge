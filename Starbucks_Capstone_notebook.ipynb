{
 "cells": [
  {
   "cell_type": "markdown",
   "metadata": {},
   "source": [
    "# Starbucks Capstone Challenge\n",
    "\n",
    "### Introduction\n",
    "\n",
    "This data set contains simulated data that mimics customer behavior on the Starbucks rewards mobile app. Once every few days, Starbucks sends out an offer to users of the mobile app. An offer can be merely an advertisement for a drink or an actual offer such as a discount or BOGO (buy one get one free). Some users might not receive any offer during certain weeks. \n",
    "\n",
    "Not all users receive the same offer, and that is the challenge to solve with this data set.\n",
    "\n",
    "Your task is to combine transaction, demographic and offer data to determine which demographic groups respond best to which offer type. This data set is a simplified version of the real Starbucks app because the underlying simulator only has one product whereas Starbucks actually sells dozens of products.\n",
    "\n",
    "Every offer has a validity period before the offer expires. As an example, a BOGO offer might be valid for only 5 days. You'll see in the data set that informational offers have a validity period even though these ads are merely providing information about a product; for example, if an informational offer has 7 days of validity, you can assume the customer is feeling the influence of the offer for 7 days after receiving the advertisement.\n",
    "\n",
    "You'll be given transactional data showing user purchases made on the app including the timestamp of purchase and the amount of money spent on a purchase. This transactional data also has a record for each offer that a user receives as well as a record for when a user actually views the offer. There are also records for when a user completes an offer. \n",
    "\n",
    "Keep in mind as well that someone using the app might make a purchase through the app without having received an offer or seen an offer.\n",
    "\n",
    "### Example\n",
    "\n",
    "To give an example, a user could receive a discount offer buy 10 dollars get 2 off on Monday. The offer is valid for 10 days from receipt. If the customer accumulates at least 10 dollars in purchases during the validity period, the customer completes the offer.\n",
    "\n",
    "However, there are a few things to watch out for in this data set. Customers do not opt into the offers that they receive; in other words, a user can receive an offer, never actually view the offer, and still complete the offer. For example, a user might receive the \"buy 10 dollars get 2 dollars off offer\", but the user never opens the offer during the 10 day validity period. The customer spends 15 dollars during those ten days. There will be an offer completion record in the data set; however, the customer was not influenced by the offer because the customer never viewed the offer.\n",
    "\n",
    "### Cleaning\n",
    "\n",
    "This makes data cleaning especially important and tricky.\n",
    "\n",
    "You'll also want to take into account that some demographic groups will make purchases even if they don't receive an offer. From a business perspective, if a customer is going to make a 10 dollar purchase without an offer anyway, you wouldn't want to send a buy 10 dollars get 2 dollars off offer. You'll want to try to assess what a certain demographic group will buy when not receiving any offers.\n",
    "\n",
    "### Final Advice\n",
    "\n",
    "Because this is a capstone project, you are free to analyze the data any way you see fit. For example, you could build a machine learning model that predicts how much someone will spend based on demographics and offer type. Or you could build a model that predicts whether or not someone will respond to an offer. Or, you don't need to build a machine learning model at all. You could develop a set of heuristics that determine what offer you should send to each customer (i.e., 75 percent of women customers who were 35 years old responded to offer A vs 40 percent from the same demographic to offer B, so send offer A)."
   ]
  },
  {
   "cell_type": "markdown",
   "metadata": {},
   "source": [
    "# Data Sets\n",
    "\n",
    "The data is contained in three files:\n",
    "\n",
    "* portfolio.json - containing offer ids and meta data about each offer (duration, type, etc.)\n",
    "* profile.json - demographic data for each customer\n",
    "* transcript.json - records for transactions, offers received, offers viewed, and offers completed\n",
    "\n",
    "Here is the schema and explanation of each variable in the files:\n",
    "\n",
    "**portfolio.json**\n",
    "* id (string) - offer id\n",
    "* offer_type (string) - type of offer ie BOGO, discount, informational\n",
    "* difficulty (int) - minimum required spend to complete an offer\n",
    "* reward (int) - reward given for completing an offer\n",
    "* duration (int) - time for offer to be open, in days\n",
    "* channels (list of strings)\n",
    "\n",
    "**profile.json**\n",
    "* age (int) - age of the customer \n",
    "* became_member_on (int) - date when customer created an app account\n",
    "* gender (str) - gender of the customer (note some entries contain 'O' for other rather than M or F)\n",
    "* id (str) - customer id\n",
    "* income (float) - customer's income\n",
    "\n",
    "**transcript.json**\n",
    "* event (str) - record description (ie transaction, offer received, offer viewed, etc.)\n",
    "* person (str) - customer id\n",
    "* time (int) - time in hours since start of test. The data begins at time t=0\n",
    "* value - (dict of strings) - either an offer id or transaction amount depending on the record\n",
    "\n",
    "**Note:** If you are using the workspace, you will need to go to the terminal and run the command `conda update pandas` before reading in the files. This is because the version of pandas in the workspace cannot read in the transcript.json file correctly, but the newest version of pandas can. You can access the termnal from the orange icon in the top left of this notebook.  \n",
    "\n",
    "You can see how to access the terminal and how the install works using the two images below.  First you need to access the terminal:\n",
    "\n",
    "<img src=\"pic1.png\"/>\n",
    "\n",
    "Then you will want to run the above command:\n",
    "\n",
    "<img src=\"pic2.png\"/>\n",
    "\n",
    "Finally, when you enter back into the notebook (use the jupyter icon again), you should be able to run the below cell without any errors."
   ]
  },
  {
   "cell_type": "code",
   "execution_count": 35,
   "metadata": {},
   "outputs": [],
   "source": [
    "import pandas as pd\n",
    "import numpy as np\n",
    "import math\n",
    "import json\n",
    "import seaborn as sns\n",
    "import matplotlib.pyplot as plt\n",
    "from sklearn.linear_model import LinearRegression\n",
    "from sklearn.model_selection import train_test_split,cross_val_score,GridSearchCV,cross_validate\n",
    "from sklearn.metrics import classification_report\n",
    "from sklearn.preprocessing import MinMaxScaler\n",
    "from sklearn.metrics import r2_score,mean_squared_error,mean_absolute_error,make_scorer\n",
    "from sklearn.svm import SVR\n",
    "from sklearn.impute import SimpleImputer,KNNImputer\n",
    "from sklearn.ensemble import RandomForestRegressor,GradientBoostingRegressor\n",
    "from sklearn.svm import SVR\n",
    "from sklearn.preprocessing import StandardScaler\n",
    "from sklearn.neighbors import KNeighborsRegressor\n",
    "% matplotlib inline\n",
    "\n",
    "# read in the json files\n",
    "portfolio = pd.read_json('data/portfolio.json', orient='records', lines=True)\n",
    "profile = pd.read_json('data/profile.json', orient='records', lines=True)\n",
    "transcript = pd.read_json('data/transcript.json', orient='records', lines=True)"
   ]
  },
  {
   "cell_type": "markdown",
   "metadata": {},
   "source": [
    "# EDA - Exploratory Data Analysis"
   ]
  },
  {
   "cell_type": "markdown",
   "metadata": {},
   "source": [
    "### EDA for Portfolio DF"
   ]
  },
  {
   "cell_type": "code",
   "execution_count": 16,
   "metadata": {},
   "outputs": [
    {
     "name": "stdout",
     "output_type": "stream",
     "text": [
      "10 6\n"
     ]
    },
    {
     "data": {
      "text/html": [
       "<div>\n",
       "<style scoped>\n",
       "    .dataframe tbody tr th:only-of-type {\n",
       "        vertical-align: middle;\n",
       "    }\n",
       "\n",
       "    .dataframe tbody tr th {\n",
       "        vertical-align: top;\n",
       "    }\n",
       "\n",
       "    .dataframe thead th {\n",
       "        text-align: right;\n",
       "    }\n",
       "</style>\n",
       "<table border=\"1\" class=\"dataframe\">\n",
       "  <thead>\n",
       "    <tr style=\"text-align: right;\">\n",
       "      <th></th>\n",
       "      <th>channels</th>\n",
       "      <th>difficulty</th>\n",
       "      <th>duration</th>\n",
       "      <th>id</th>\n",
       "      <th>offer_type</th>\n",
       "      <th>reward</th>\n",
       "    </tr>\n",
       "  </thead>\n",
       "  <tbody>\n",
       "    <tr>\n",
       "      <th>0</th>\n",
       "      <td>[email, mobile, social]</td>\n",
       "      <td>10</td>\n",
       "      <td>7</td>\n",
       "      <td>ae264e3637204a6fb9bb56bc8210ddfd</td>\n",
       "      <td>bogo</td>\n",
       "      <td>10</td>\n",
       "    </tr>\n",
       "    <tr>\n",
       "      <th>1</th>\n",
       "      <td>[web, email, mobile, social]</td>\n",
       "      <td>10</td>\n",
       "      <td>5</td>\n",
       "      <td>4d5c57ea9a6940dd891ad53e9dbe8da0</td>\n",
       "      <td>bogo</td>\n",
       "      <td>10</td>\n",
       "    </tr>\n",
       "    <tr>\n",
       "      <th>2</th>\n",
       "      <td>[web, email, mobile]</td>\n",
       "      <td>0</td>\n",
       "      <td>4</td>\n",
       "      <td>3f207df678b143eea3cee63160fa8bed</td>\n",
       "      <td>informational</td>\n",
       "      <td>0</td>\n",
       "    </tr>\n",
       "    <tr>\n",
       "      <th>3</th>\n",
       "      <td>[web, email, mobile]</td>\n",
       "      <td>5</td>\n",
       "      <td>7</td>\n",
       "      <td>9b98b8c7a33c4b65b9aebfe6a799e6d9</td>\n",
       "      <td>bogo</td>\n",
       "      <td>5</td>\n",
       "    </tr>\n",
       "    <tr>\n",
       "      <th>4</th>\n",
       "      <td>[web, email]</td>\n",
       "      <td>20</td>\n",
       "      <td>10</td>\n",
       "      <td>0b1e1539f2cc45b7b9fa7c272da2e1d7</td>\n",
       "      <td>discount</td>\n",
       "      <td>5</td>\n",
       "    </tr>\n",
       "    <tr>\n",
       "      <th>5</th>\n",
       "      <td>[web, email, mobile, social]</td>\n",
       "      <td>7</td>\n",
       "      <td>7</td>\n",
       "      <td>2298d6c36e964ae4a3e7e9706d1fb8c2</td>\n",
       "      <td>discount</td>\n",
       "      <td>3</td>\n",
       "    </tr>\n",
       "    <tr>\n",
       "      <th>6</th>\n",
       "      <td>[web, email, mobile, social]</td>\n",
       "      <td>10</td>\n",
       "      <td>10</td>\n",
       "      <td>fafdcd668e3743c1bb461111dcafc2a4</td>\n",
       "      <td>discount</td>\n",
       "      <td>2</td>\n",
       "    </tr>\n",
       "    <tr>\n",
       "      <th>7</th>\n",
       "      <td>[email, mobile, social]</td>\n",
       "      <td>0</td>\n",
       "      <td>3</td>\n",
       "      <td>5a8bc65990b245e5a138643cd4eb9837</td>\n",
       "      <td>informational</td>\n",
       "      <td>0</td>\n",
       "    </tr>\n",
       "    <tr>\n",
       "      <th>8</th>\n",
       "      <td>[web, email, mobile, social]</td>\n",
       "      <td>5</td>\n",
       "      <td>5</td>\n",
       "      <td>f19421c1d4aa40978ebb69ca19b0e20d</td>\n",
       "      <td>bogo</td>\n",
       "      <td>5</td>\n",
       "    </tr>\n",
       "    <tr>\n",
       "      <th>9</th>\n",
       "      <td>[web, email, mobile]</td>\n",
       "      <td>10</td>\n",
       "      <td>7</td>\n",
       "      <td>2906b810c7d4411798c6938adc9daaa5</td>\n",
       "      <td>discount</td>\n",
       "      <td>2</td>\n",
       "    </tr>\n",
       "  </tbody>\n",
       "</table>\n",
       "</div>"
      ],
      "text/plain": [
       "                       channels  difficulty  duration  \\\n",
       "0       [email, mobile, social]          10         7   \n",
       "1  [web, email, mobile, social]          10         5   \n",
       "2          [web, email, mobile]           0         4   \n",
       "3          [web, email, mobile]           5         7   \n",
       "4                  [web, email]          20        10   \n",
       "5  [web, email, mobile, social]           7         7   \n",
       "6  [web, email, mobile, social]          10        10   \n",
       "7       [email, mobile, social]           0         3   \n",
       "8  [web, email, mobile, social]           5         5   \n",
       "9          [web, email, mobile]          10         7   \n",
       "\n",
       "                                 id     offer_type  reward  \n",
       "0  ae264e3637204a6fb9bb56bc8210ddfd           bogo      10  \n",
       "1  4d5c57ea9a6940dd891ad53e9dbe8da0           bogo      10  \n",
       "2  3f207df678b143eea3cee63160fa8bed  informational       0  \n",
       "3  9b98b8c7a33c4b65b9aebfe6a799e6d9           bogo       5  \n",
       "4  0b1e1539f2cc45b7b9fa7c272da2e1d7       discount       5  \n",
       "5  2298d6c36e964ae4a3e7e9706d1fb8c2       discount       3  \n",
       "6  fafdcd668e3743c1bb461111dcafc2a4       discount       2  \n",
       "7  5a8bc65990b245e5a138643cd4eb9837  informational       0  \n",
       "8  f19421c1d4aa40978ebb69ca19b0e20d           bogo       5  \n",
       "9  2906b810c7d4411798c6938adc9daaa5       discount       2  "
      ]
     },
     "execution_count": 16,
     "metadata": {},
     "output_type": "execute_result"
    }
   ],
   "source": [
    "print(portfolio.shape[0],portfolio.shape[1])\n",
    "portfolio.head(20)"
   ]
  },
  {
   "cell_type": "code",
   "execution_count": 3,
   "metadata": {},
   "outputs": [
    {
     "data": {
      "text/html": [
       "<div>\n",
       "<style scoped>\n",
       "    .dataframe tbody tr th:only-of-type {\n",
       "        vertical-align: middle;\n",
       "    }\n",
       "\n",
       "    .dataframe tbody tr th {\n",
       "        vertical-align: top;\n",
       "    }\n",
       "\n",
       "    .dataframe thead th {\n",
       "        text-align: right;\n",
       "    }\n",
       "</style>\n",
       "<table border=\"1\" class=\"dataframe\">\n",
       "  <thead>\n",
       "    <tr style=\"text-align: right;\">\n",
       "      <th></th>\n",
       "      <th>difficulty</th>\n",
       "      <th>duration</th>\n",
       "      <th>reward</th>\n",
       "    </tr>\n",
       "  </thead>\n",
       "  <tbody>\n",
       "    <tr>\n",
       "      <th>count</th>\n",
       "      <td>10.000000</td>\n",
       "      <td>10.000000</td>\n",
       "      <td>10.000000</td>\n",
       "    </tr>\n",
       "    <tr>\n",
       "      <th>mean</th>\n",
       "      <td>7.700000</td>\n",
       "      <td>6.500000</td>\n",
       "      <td>4.200000</td>\n",
       "    </tr>\n",
       "    <tr>\n",
       "      <th>std</th>\n",
       "      <td>5.831905</td>\n",
       "      <td>2.321398</td>\n",
       "      <td>3.583915</td>\n",
       "    </tr>\n",
       "    <tr>\n",
       "      <th>min</th>\n",
       "      <td>0.000000</td>\n",
       "      <td>3.000000</td>\n",
       "      <td>0.000000</td>\n",
       "    </tr>\n",
       "    <tr>\n",
       "      <th>25%</th>\n",
       "      <td>5.000000</td>\n",
       "      <td>5.000000</td>\n",
       "      <td>2.000000</td>\n",
       "    </tr>\n",
       "    <tr>\n",
       "      <th>50%</th>\n",
       "      <td>8.500000</td>\n",
       "      <td>7.000000</td>\n",
       "      <td>4.000000</td>\n",
       "    </tr>\n",
       "    <tr>\n",
       "      <th>75%</th>\n",
       "      <td>10.000000</td>\n",
       "      <td>7.000000</td>\n",
       "      <td>5.000000</td>\n",
       "    </tr>\n",
       "    <tr>\n",
       "      <th>max</th>\n",
       "      <td>20.000000</td>\n",
       "      <td>10.000000</td>\n",
       "      <td>10.000000</td>\n",
       "    </tr>\n",
       "  </tbody>\n",
       "</table>\n",
       "</div>"
      ],
      "text/plain": [
       "       difficulty   duration     reward\n",
       "count   10.000000  10.000000  10.000000\n",
       "mean     7.700000   6.500000   4.200000\n",
       "std      5.831905   2.321398   3.583915\n",
       "min      0.000000   3.000000   0.000000\n",
       "25%      5.000000   5.000000   2.000000\n",
       "50%      8.500000   7.000000   4.000000\n",
       "75%     10.000000   7.000000   5.000000\n",
       "max     20.000000  10.000000  10.000000"
      ]
     },
     "execution_count": 3,
     "metadata": {},
     "output_type": "execute_result"
    }
   ],
   "source": [
    "portfolio.describe()"
   ]
  },
  {
   "cell_type": "code",
   "execution_count": 4,
   "metadata": {},
   "outputs": [
    {
     "data": {
      "text/plain": [
       "{'email', 'mobile', 'social', 'web'}"
      ]
     },
     "execution_count": 4,
     "metadata": {},
     "output_type": "execute_result"
    }
   ],
   "source": [
    "#Distinct channels of offers\n",
    "listofChannels=list()\n",
    "for cc in portfolio['channels']:\n",
    "    listofChannels.extend(cc)\n",
    "\n",
    "set(listofChannels)"
   ]
  },
  {
   "cell_type": "code",
   "execution_count": 5,
   "metadata": {},
   "outputs": [
    {
     "data": {
      "text/plain": [
       "array(['bogo', 'informational', 'discount'], dtype=object)"
      ]
     },
     "execution_count": 5,
     "metadata": {},
     "output_type": "execute_result"
    }
   ],
   "source": [
    "#Distinct offer types\n",
    "\n",
    "portfolio['offer_type'].unique()"
   ]
  },
  {
   "cell_type": "code",
   "execution_count": 6,
   "metadata": {},
   "outputs": [
    {
     "name": "stdout",
     "output_type": "stream",
     "text": [
      "<class 'pandas.core.frame.DataFrame'>\n",
      "RangeIndex: 10 entries, 0 to 9\n",
      "Data columns (total 6 columns):\n",
      "channels      10 non-null object\n",
      "difficulty    10 non-null int64\n",
      "duration      10 non-null int64\n",
      "id            10 non-null object\n",
      "offer_type    10 non-null object\n",
      "reward        10 non-null int64\n",
      "dtypes: int64(3), object(3)\n",
      "memory usage: 560.0+ bytes\n"
     ]
    }
   ],
   "source": [
    "portfolio.info()"
   ]
  },
  {
   "cell_type": "markdown",
   "metadata": {},
   "source": [
    "### EDA for Profile DF"
   ]
  },
  {
   "cell_type": "code",
   "execution_count": 7,
   "metadata": {},
   "outputs": [
    {
     "name": "stdout",
     "output_type": "stream",
     "text": [
      "17000 5\n"
     ]
    },
    {
     "data": {
      "text/html": [
       "<div>\n",
       "<style scoped>\n",
       "    .dataframe tbody tr th:only-of-type {\n",
       "        vertical-align: middle;\n",
       "    }\n",
       "\n",
       "    .dataframe tbody tr th {\n",
       "        vertical-align: top;\n",
       "    }\n",
       "\n",
       "    .dataframe thead th {\n",
       "        text-align: right;\n",
       "    }\n",
       "</style>\n",
       "<table border=\"1\" class=\"dataframe\">\n",
       "  <thead>\n",
       "    <tr style=\"text-align: right;\">\n",
       "      <th></th>\n",
       "      <th>age</th>\n",
       "      <th>became_member_on</th>\n",
       "      <th>gender</th>\n",
       "      <th>id</th>\n",
       "      <th>income</th>\n",
       "    </tr>\n",
       "  </thead>\n",
       "  <tbody>\n",
       "    <tr>\n",
       "      <th>0</th>\n",
       "      <td>118</td>\n",
       "      <td>20170212</td>\n",
       "      <td>None</td>\n",
       "      <td>68be06ca386d4c31939f3a4f0e3dd783</td>\n",
       "      <td>NaN</td>\n",
       "    </tr>\n",
       "    <tr>\n",
       "      <th>1</th>\n",
       "      <td>55</td>\n",
       "      <td>20170715</td>\n",
       "      <td>F</td>\n",
       "      <td>0610b486422d4921ae7d2bf64640c50b</td>\n",
       "      <td>112000.0</td>\n",
       "    </tr>\n",
       "    <tr>\n",
       "      <th>2</th>\n",
       "      <td>118</td>\n",
       "      <td>20180712</td>\n",
       "      <td>None</td>\n",
       "      <td>38fe809add3b4fcf9315a9694bb96ff5</td>\n",
       "      <td>NaN</td>\n",
       "    </tr>\n",
       "    <tr>\n",
       "      <th>3</th>\n",
       "      <td>75</td>\n",
       "      <td>20170509</td>\n",
       "      <td>F</td>\n",
       "      <td>78afa995795e4d85b5d9ceeca43f5fef</td>\n",
       "      <td>100000.0</td>\n",
       "    </tr>\n",
       "    <tr>\n",
       "      <th>4</th>\n",
       "      <td>118</td>\n",
       "      <td>20170804</td>\n",
       "      <td>None</td>\n",
       "      <td>a03223e636434f42ac4c3df47e8bac43</td>\n",
       "      <td>NaN</td>\n",
       "    </tr>\n",
       "    <tr>\n",
       "      <th>5</th>\n",
       "      <td>68</td>\n",
       "      <td>20180426</td>\n",
       "      <td>M</td>\n",
       "      <td>e2127556f4f64592b11af22de27a7932</td>\n",
       "      <td>70000.0</td>\n",
       "    </tr>\n",
       "    <tr>\n",
       "      <th>6</th>\n",
       "      <td>118</td>\n",
       "      <td>20170925</td>\n",
       "      <td>None</td>\n",
       "      <td>8ec6ce2a7e7949b1bf142def7d0e0586</td>\n",
       "      <td>NaN</td>\n",
       "    </tr>\n",
       "    <tr>\n",
       "      <th>7</th>\n",
       "      <td>118</td>\n",
       "      <td>20171002</td>\n",
       "      <td>None</td>\n",
       "      <td>68617ca6246f4fbc85e91a2a49552598</td>\n",
       "      <td>NaN</td>\n",
       "    </tr>\n",
       "    <tr>\n",
       "      <th>8</th>\n",
       "      <td>65</td>\n",
       "      <td>20180209</td>\n",
       "      <td>M</td>\n",
       "      <td>389bc3fa690240e798340f5a15918d5c</td>\n",
       "      <td>53000.0</td>\n",
       "    </tr>\n",
       "    <tr>\n",
       "      <th>9</th>\n",
       "      <td>118</td>\n",
       "      <td>20161122</td>\n",
       "      <td>None</td>\n",
       "      <td>8974fc5686fe429db53ddde067b88302</td>\n",
       "      <td>NaN</td>\n",
       "    </tr>\n",
       "    <tr>\n",
       "      <th>10</th>\n",
       "      <td>118</td>\n",
       "      <td>20170824</td>\n",
       "      <td>None</td>\n",
       "      <td>c4863c7985cf408faee930f111475da3</td>\n",
       "      <td>NaN</td>\n",
       "    </tr>\n",
       "    <tr>\n",
       "      <th>11</th>\n",
       "      <td>118</td>\n",
       "      <td>20150919</td>\n",
       "      <td>None</td>\n",
       "      <td>148adfcaa27d485b82f323aaaad036bd</td>\n",
       "      <td>NaN</td>\n",
       "    </tr>\n",
       "    <tr>\n",
       "      <th>12</th>\n",
       "      <td>58</td>\n",
       "      <td>20171111</td>\n",
       "      <td>M</td>\n",
       "      <td>2eeac8d8feae4a8cad5a6af0499a211d</td>\n",
       "      <td>51000.0</td>\n",
       "    </tr>\n",
       "    <tr>\n",
       "      <th>13</th>\n",
       "      <td>61</td>\n",
       "      <td>20170911</td>\n",
       "      <td>F</td>\n",
       "      <td>aa4862eba776480b8bb9c68455b8c2e1</td>\n",
       "      <td>57000.0</td>\n",
       "    </tr>\n",
       "    <tr>\n",
       "      <th>14</th>\n",
       "      <td>26</td>\n",
       "      <td>20140213</td>\n",
       "      <td>M</td>\n",
       "      <td>e12aeaf2d47d42479ea1c4ac3d8286c6</td>\n",
       "      <td>46000.0</td>\n",
       "    </tr>\n",
       "    <tr>\n",
       "      <th>15</th>\n",
       "      <td>62</td>\n",
       "      <td>20160211</td>\n",
       "      <td>F</td>\n",
       "      <td>31dda685af34476cad5bc968bdb01c53</td>\n",
       "      <td>71000.0</td>\n",
       "    </tr>\n",
       "    <tr>\n",
       "      <th>16</th>\n",
       "      <td>49</td>\n",
       "      <td>20141113</td>\n",
       "      <td>M</td>\n",
       "      <td>62cf5e10845442329191fc246e7bcea3</td>\n",
       "      <td>52000.0</td>\n",
       "    </tr>\n",
       "    <tr>\n",
       "      <th>17</th>\n",
       "      <td>118</td>\n",
       "      <td>20170801</td>\n",
       "      <td>None</td>\n",
       "      <td>744d603ef08c4f33af5a61c8c7628d1c</td>\n",
       "      <td>NaN</td>\n",
       "    </tr>\n",
       "    <tr>\n",
       "      <th>18</th>\n",
       "      <td>57</td>\n",
       "      <td>20171231</td>\n",
       "      <td>M</td>\n",
       "      <td>6445de3b47274c759400cd68131d91b4</td>\n",
       "      <td>42000.0</td>\n",
       "    </tr>\n",
       "    <tr>\n",
       "      <th>19</th>\n",
       "      <td>61</td>\n",
       "      <td>20180501</td>\n",
       "      <td>F</td>\n",
       "      <td>a448667f336b42c9a66fc5ffd5d73772</td>\n",
       "      <td>40000.0</td>\n",
       "    </tr>\n",
       "  </tbody>\n",
       "</table>\n",
       "</div>"
      ],
      "text/plain": [
       "    age  became_member_on gender                                id    income\n",
       "0   118          20170212   None  68be06ca386d4c31939f3a4f0e3dd783       NaN\n",
       "1    55          20170715      F  0610b486422d4921ae7d2bf64640c50b  112000.0\n",
       "2   118          20180712   None  38fe809add3b4fcf9315a9694bb96ff5       NaN\n",
       "3    75          20170509      F  78afa995795e4d85b5d9ceeca43f5fef  100000.0\n",
       "4   118          20170804   None  a03223e636434f42ac4c3df47e8bac43       NaN\n",
       "5    68          20180426      M  e2127556f4f64592b11af22de27a7932   70000.0\n",
       "6   118          20170925   None  8ec6ce2a7e7949b1bf142def7d0e0586       NaN\n",
       "7   118          20171002   None  68617ca6246f4fbc85e91a2a49552598       NaN\n",
       "8    65          20180209      M  389bc3fa690240e798340f5a15918d5c   53000.0\n",
       "9   118          20161122   None  8974fc5686fe429db53ddde067b88302       NaN\n",
       "10  118          20170824   None  c4863c7985cf408faee930f111475da3       NaN\n",
       "11  118          20150919   None  148adfcaa27d485b82f323aaaad036bd       NaN\n",
       "12   58          20171111      M  2eeac8d8feae4a8cad5a6af0499a211d   51000.0\n",
       "13   61          20170911      F  aa4862eba776480b8bb9c68455b8c2e1   57000.0\n",
       "14   26          20140213      M  e12aeaf2d47d42479ea1c4ac3d8286c6   46000.0\n",
       "15   62          20160211      F  31dda685af34476cad5bc968bdb01c53   71000.0\n",
       "16   49          20141113      M  62cf5e10845442329191fc246e7bcea3   52000.0\n",
       "17  118          20170801   None  744d603ef08c4f33af5a61c8c7628d1c       NaN\n",
       "18   57          20171231      M  6445de3b47274c759400cd68131d91b4   42000.0\n",
       "19   61          20180501      F  a448667f336b42c9a66fc5ffd5d73772   40000.0"
      ]
     },
     "execution_count": 7,
     "metadata": {},
     "output_type": "execute_result"
    }
   ],
   "source": [
    "print(profile.shape[0],profile.shape[1])\n",
    "profile.head(20)"
   ]
  },
  {
   "cell_type": "code",
   "execution_count": 8,
   "metadata": {},
   "outputs": [
    {
     "data": {
      "text/html": [
       "<div>\n",
       "<style scoped>\n",
       "    .dataframe tbody tr th:only-of-type {\n",
       "        vertical-align: middle;\n",
       "    }\n",
       "\n",
       "    .dataframe tbody tr th {\n",
       "        vertical-align: top;\n",
       "    }\n",
       "\n",
       "    .dataframe thead th {\n",
       "        text-align: right;\n",
       "    }\n",
       "</style>\n",
       "<table border=\"1\" class=\"dataframe\">\n",
       "  <thead>\n",
       "    <tr style=\"text-align: right;\">\n",
       "      <th></th>\n",
       "      <th>age</th>\n",
       "      <th>became_member_on</th>\n",
       "      <th>income</th>\n",
       "    </tr>\n",
       "  </thead>\n",
       "  <tbody>\n",
       "    <tr>\n",
       "      <th>count</th>\n",
       "      <td>17000.000000</td>\n",
       "      <td>1.700000e+04</td>\n",
       "      <td>14825.000000</td>\n",
       "    </tr>\n",
       "    <tr>\n",
       "      <th>mean</th>\n",
       "      <td>62.531412</td>\n",
       "      <td>2.016703e+07</td>\n",
       "      <td>65404.991568</td>\n",
       "    </tr>\n",
       "    <tr>\n",
       "      <th>std</th>\n",
       "      <td>26.738580</td>\n",
       "      <td>1.167750e+04</td>\n",
       "      <td>21598.299410</td>\n",
       "    </tr>\n",
       "    <tr>\n",
       "      <th>min</th>\n",
       "      <td>18.000000</td>\n",
       "      <td>2.013073e+07</td>\n",
       "      <td>30000.000000</td>\n",
       "    </tr>\n",
       "    <tr>\n",
       "      <th>25%</th>\n",
       "      <td>45.000000</td>\n",
       "      <td>2.016053e+07</td>\n",
       "      <td>49000.000000</td>\n",
       "    </tr>\n",
       "    <tr>\n",
       "      <th>50%</th>\n",
       "      <td>58.000000</td>\n",
       "      <td>2.017080e+07</td>\n",
       "      <td>64000.000000</td>\n",
       "    </tr>\n",
       "    <tr>\n",
       "      <th>75%</th>\n",
       "      <td>73.000000</td>\n",
       "      <td>2.017123e+07</td>\n",
       "      <td>80000.000000</td>\n",
       "    </tr>\n",
       "    <tr>\n",
       "      <th>max</th>\n",
       "      <td>118.000000</td>\n",
       "      <td>2.018073e+07</td>\n",
       "      <td>120000.000000</td>\n",
       "    </tr>\n",
       "  </tbody>\n",
       "</table>\n",
       "</div>"
      ],
      "text/plain": [
       "                age  became_member_on         income\n",
       "count  17000.000000      1.700000e+04   14825.000000\n",
       "mean      62.531412      2.016703e+07   65404.991568\n",
       "std       26.738580      1.167750e+04   21598.299410\n",
       "min       18.000000      2.013073e+07   30000.000000\n",
       "25%       45.000000      2.016053e+07   49000.000000\n",
       "50%       58.000000      2.017080e+07   64000.000000\n",
       "75%       73.000000      2.017123e+07   80000.000000\n",
       "max      118.000000      2.018073e+07  120000.000000"
      ]
     },
     "execution_count": 8,
     "metadata": {},
     "output_type": "execute_result"
    }
   ],
   "source": [
    "profile.describe()"
   ]
  },
  {
   "cell_type": "code",
   "execution_count": 9,
   "metadata": {},
   "outputs": [
    {
     "name": "stdout",
     "output_type": "stream",
     "text": [
      "49.91 % of all customers are males.\n",
      "36.05 % of all customers are females.\n",
      "14.04 % of all customers are other or null values.\n"
     ]
    }
   ],
   "source": [
    "print(round(profile[profile['gender']=='M'].shape[0]/profile.shape[0]*100,2),'% of all customers are males.')\n",
    "print(round(profile[profile['gender']=='F'].shape[0]/profile.shape[0]*100,2),'% of all customers are females.')\n",
    "print(round(profile[~profile['gender'].isin({'M','F'})].shape[0]/profile.shape[0]*100,2),'% of all customers are other or null values.')"
   ]
  },
  {
   "cell_type": "code",
   "execution_count": 10,
   "metadata": {},
   "outputs": [
    {
     "name": "stdout",
     "output_type": "stream",
     "text": [
      "Average income for male customers is : 61195\n",
      "Average income for female customers is : 71306\n",
      "Average income for other or not declared gender is: 63288\n"
     ]
    }
   ],
   "source": [
    "print('Average income for male customers is :',round(profile[profile['gender']=='M'].income.mean()))\n",
    "print('Average income for female customers is :',round(profile[profile['gender']=='F'].income.mean()))\n",
    "print('Average income for other or not declared gender is:',round(profile[~profile['gender'].isin({'M','F'})].income.mean()))\n",
    "\n"
   ]
  },
  {
   "cell_type": "code",
   "execution_count": 11,
   "metadata": {},
   "outputs": [
    {
     "name": "stdout",
     "output_type": "stream",
     "text": [
      "Male customers percentage who did not declare income is: 0.0\n",
      "Female customers percentage who did not declare income is: 0.0\n",
      "Other gender percentage who did not declare income is: 100.0\n",
      "All customers who did not tell gender also did not declare their income too.\n"
     ]
    }
   ],
   "source": [
    "null_income=profile[profile['income'].isnull()]\n",
    "print('Male customers percentage who did not declare income is:'\n",
    "      ,round((null_income[null_income['gender']=='M'].shape[0]/null_income.shape[0])*100,2))\n",
    "print('Female customers percentage who did not declare income is:'\n",
    "      ,round((null_income[null_income['gender']=='F'].shape[0]/null_income.shape[0])*100,2))\n",
    "print('Other gender percentage who did not declare income is:'\n",
    "      ,round((null_income[~null_income['gender'].isin({'M','F'})].shape[0]/null_income.shape[0])*100,2))\n",
    "print(\"All customers who did not tell gender also did not declare their income too.\")"
   ]
  },
  {
   "cell_type": "markdown",
   "metadata": {},
   "source": [
    "### EDA for Transcript DF"
   ]
  },
  {
   "cell_type": "code",
   "execution_count": 12,
   "metadata": {},
   "outputs": [
    {
     "name": "stdout",
     "output_type": "stream",
     "text": [
      "306534 4\n"
     ]
    },
    {
     "data": {
      "text/html": [
       "<div>\n",
       "<style scoped>\n",
       "    .dataframe tbody tr th:only-of-type {\n",
       "        vertical-align: middle;\n",
       "    }\n",
       "\n",
       "    .dataframe tbody tr th {\n",
       "        vertical-align: top;\n",
       "    }\n",
       "\n",
       "    .dataframe thead th {\n",
       "        text-align: right;\n",
       "    }\n",
       "</style>\n",
       "<table border=\"1\" class=\"dataframe\">\n",
       "  <thead>\n",
       "    <tr style=\"text-align: right;\">\n",
       "      <th></th>\n",
       "      <th>event</th>\n",
       "      <th>person</th>\n",
       "      <th>time</th>\n",
       "      <th>value</th>\n",
       "    </tr>\n",
       "  </thead>\n",
       "  <tbody>\n",
       "    <tr>\n",
       "      <th>0</th>\n",
       "      <td>offer received</td>\n",
       "      <td>78afa995795e4d85b5d9ceeca43f5fef</td>\n",
       "      <td>0</td>\n",
       "      <td>{'offer id': '9b98b8c7a33c4b65b9aebfe6a799e6d9'}</td>\n",
       "    </tr>\n",
       "    <tr>\n",
       "      <th>1</th>\n",
       "      <td>offer received</td>\n",
       "      <td>a03223e636434f42ac4c3df47e8bac43</td>\n",
       "      <td>0</td>\n",
       "      <td>{'offer id': '0b1e1539f2cc45b7b9fa7c272da2e1d7'}</td>\n",
       "    </tr>\n",
       "    <tr>\n",
       "      <th>2</th>\n",
       "      <td>offer received</td>\n",
       "      <td>e2127556f4f64592b11af22de27a7932</td>\n",
       "      <td>0</td>\n",
       "      <td>{'offer id': '2906b810c7d4411798c6938adc9daaa5'}</td>\n",
       "    </tr>\n",
       "    <tr>\n",
       "      <th>3</th>\n",
       "      <td>offer received</td>\n",
       "      <td>8ec6ce2a7e7949b1bf142def7d0e0586</td>\n",
       "      <td>0</td>\n",
       "      <td>{'offer id': 'fafdcd668e3743c1bb461111dcafc2a4'}</td>\n",
       "    </tr>\n",
       "    <tr>\n",
       "      <th>4</th>\n",
       "      <td>offer received</td>\n",
       "      <td>68617ca6246f4fbc85e91a2a49552598</td>\n",
       "      <td>0</td>\n",
       "      <td>{'offer id': '4d5c57ea9a6940dd891ad53e9dbe8da0'}</td>\n",
       "    </tr>\n",
       "    <tr>\n",
       "      <th>5</th>\n",
       "      <td>offer received</td>\n",
       "      <td>389bc3fa690240e798340f5a15918d5c</td>\n",
       "      <td>0</td>\n",
       "      <td>{'offer id': 'f19421c1d4aa40978ebb69ca19b0e20d'}</td>\n",
       "    </tr>\n",
       "    <tr>\n",
       "      <th>6</th>\n",
       "      <td>offer received</td>\n",
       "      <td>c4863c7985cf408faee930f111475da3</td>\n",
       "      <td>0</td>\n",
       "      <td>{'offer id': '2298d6c36e964ae4a3e7e9706d1fb8c2'}</td>\n",
       "    </tr>\n",
       "    <tr>\n",
       "      <th>7</th>\n",
       "      <td>offer received</td>\n",
       "      <td>2eeac8d8feae4a8cad5a6af0499a211d</td>\n",
       "      <td>0</td>\n",
       "      <td>{'offer id': '3f207df678b143eea3cee63160fa8bed'}</td>\n",
       "    </tr>\n",
       "    <tr>\n",
       "      <th>8</th>\n",
       "      <td>offer received</td>\n",
       "      <td>aa4862eba776480b8bb9c68455b8c2e1</td>\n",
       "      <td>0</td>\n",
       "      <td>{'offer id': '0b1e1539f2cc45b7b9fa7c272da2e1d7'}</td>\n",
       "    </tr>\n",
       "    <tr>\n",
       "      <th>9</th>\n",
       "      <td>offer received</td>\n",
       "      <td>31dda685af34476cad5bc968bdb01c53</td>\n",
       "      <td>0</td>\n",
       "      <td>{'offer id': '0b1e1539f2cc45b7b9fa7c272da2e1d7'}</td>\n",
       "    </tr>\n",
       "    <tr>\n",
       "      <th>10</th>\n",
       "      <td>offer received</td>\n",
       "      <td>744d603ef08c4f33af5a61c8c7628d1c</td>\n",
       "      <td>0</td>\n",
       "      <td>{'offer id': '0b1e1539f2cc45b7b9fa7c272da2e1d7'}</td>\n",
       "    </tr>\n",
       "    <tr>\n",
       "      <th>11</th>\n",
       "      <td>offer received</td>\n",
       "      <td>3d02345581554e81b7b289ab5e288078</td>\n",
       "      <td>0</td>\n",
       "      <td>{'offer id': '0b1e1539f2cc45b7b9fa7c272da2e1d7'}</td>\n",
       "    </tr>\n",
       "    <tr>\n",
       "      <th>12</th>\n",
       "      <td>offer received</td>\n",
       "      <td>4b0da7e80e5945209a1fdddfe813dbe0</td>\n",
       "      <td>0</td>\n",
       "      <td>{'offer id': 'ae264e3637204a6fb9bb56bc8210ddfd'}</td>\n",
       "    </tr>\n",
       "    <tr>\n",
       "      <th>13</th>\n",
       "      <td>offer received</td>\n",
       "      <td>c27e0d6ab72c455a8bb66d980963de60</td>\n",
       "      <td>0</td>\n",
       "      <td>{'offer id': '3f207df678b143eea3cee63160fa8bed'}</td>\n",
       "    </tr>\n",
       "    <tr>\n",
       "      <th>14</th>\n",
       "      <td>offer received</td>\n",
       "      <td>d53717f5400c4e84affdaeda9dd926b3</td>\n",
       "      <td>0</td>\n",
       "      <td>{'offer id': '0b1e1539f2cc45b7b9fa7c272da2e1d7'}</td>\n",
       "    </tr>\n",
       "    <tr>\n",
       "      <th>15</th>\n",
       "      <td>offer received</td>\n",
       "      <td>f806632c011441378d4646567f357a21</td>\n",
       "      <td>0</td>\n",
       "      <td>{'offer id': 'fafdcd668e3743c1bb461111dcafc2a4'}</td>\n",
       "    </tr>\n",
       "    <tr>\n",
       "      <th>16</th>\n",
       "      <td>offer received</td>\n",
       "      <td>d058f73bf8674a26a95227db098147b1</td>\n",
       "      <td>0</td>\n",
       "      <td>{'offer id': '0b1e1539f2cc45b7b9fa7c272da2e1d7'}</td>\n",
       "    </tr>\n",
       "    <tr>\n",
       "      <th>17</th>\n",
       "      <td>offer received</td>\n",
       "      <td>65aba5c617294649aeb624da249e1ee5</td>\n",
       "      <td>0</td>\n",
       "      <td>{'offer id': '2906b810c7d4411798c6938adc9daaa5'}</td>\n",
       "    </tr>\n",
       "    <tr>\n",
       "      <th>18</th>\n",
       "      <td>offer received</td>\n",
       "      <td>ebe7ef46ea6f4963a7dd49f501b26779</td>\n",
       "      <td>0</td>\n",
       "      <td>{'offer id': '9b98b8c7a33c4b65b9aebfe6a799e6d9'}</td>\n",
       "    </tr>\n",
       "    <tr>\n",
       "      <th>19</th>\n",
       "      <td>offer received</td>\n",
       "      <td>1e9420836d554513ab90eba98552d0a9</td>\n",
       "      <td>0</td>\n",
       "      <td>{'offer id': 'ae264e3637204a6fb9bb56bc8210ddfd'}</td>\n",
       "    </tr>\n",
       "  </tbody>\n",
       "</table>\n",
       "</div>"
      ],
      "text/plain": [
       "             event                            person  time  \\\n",
       "0   offer received  78afa995795e4d85b5d9ceeca43f5fef     0   \n",
       "1   offer received  a03223e636434f42ac4c3df47e8bac43     0   \n",
       "2   offer received  e2127556f4f64592b11af22de27a7932     0   \n",
       "3   offer received  8ec6ce2a7e7949b1bf142def7d0e0586     0   \n",
       "4   offer received  68617ca6246f4fbc85e91a2a49552598     0   \n",
       "5   offer received  389bc3fa690240e798340f5a15918d5c     0   \n",
       "6   offer received  c4863c7985cf408faee930f111475da3     0   \n",
       "7   offer received  2eeac8d8feae4a8cad5a6af0499a211d     0   \n",
       "8   offer received  aa4862eba776480b8bb9c68455b8c2e1     0   \n",
       "9   offer received  31dda685af34476cad5bc968bdb01c53     0   \n",
       "10  offer received  744d603ef08c4f33af5a61c8c7628d1c     0   \n",
       "11  offer received  3d02345581554e81b7b289ab5e288078     0   \n",
       "12  offer received  4b0da7e80e5945209a1fdddfe813dbe0     0   \n",
       "13  offer received  c27e0d6ab72c455a8bb66d980963de60     0   \n",
       "14  offer received  d53717f5400c4e84affdaeda9dd926b3     0   \n",
       "15  offer received  f806632c011441378d4646567f357a21     0   \n",
       "16  offer received  d058f73bf8674a26a95227db098147b1     0   \n",
       "17  offer received  65aba5c617294649aeb624da249e1ee5     0   \n",
       "18  offer received  ebe7ef46ea6f4963a7dd49f501b26779     0   \n",
       "19  offer received  1e9420836d554513ab90eba98552d0a9     0   \n",
       "\n",
       "                                               value  \n",
       "0   {'offer id': '9b98b8c7a33c4b65b9aebfe6a799e6d9'}  \n",
       "1   {'offer id': '0b1e1539f2cc45b7b9fa7c272da2e1d7'}  \n",
       "2   {'offer id': '2906b810c7d4411798c6938adc9daaa5'}  \n",
       "3   {'offer id': 'fafdcd668e3743c1bb461111dcafc2a4'}  \n",
       "4   {'offer id': '4d5c57ea9a6940dd891ad53e9dbe8da0'}  \n",
       "5   {'offer id': 'f19421c1d4aa40978ebb69ca19b0e20d'}  \n",
       "6   {'offer id': '2298d6c36e964ae4a3e7e9706d1fb8c2'}  \n",
       "7   {'offer id': '3f207df678b143eea3cee63160fa8bed'}  \n",
       "8   {'offer id': '0b1e1539f2cc45b7b9fa7c272da2e1d7'}  \n",
       "9   {'offer id': '0b1e1539f2cc45b7b9fa7c272da2e1d7'}  \n",
       "10  {'offer id': '0b1e1539f2cc45b7b9fa7c272da2e1d7'}  \n",
       "11  {'offer id': '0b1e1539f2cc45b7b9fa7c272da2e1d7'}  \n",
       "12  {'offer id': 'ae264e3637204a6fb9bb56bc8210ddfd'}  \n",
       "13  {'offer id': '3f207df678b143eea3cee63160fa8bed'}  \n",
       "14  {'offer id': '0b1e1539f2cc45b7b9fa7c272da2e1d7'}  \n",
       "15  {'offer id': 'fafdcd668e3743c1bb461111dcafc2a4'}  \n",
       "16  {'offer id': '0b1e1539f2cc45b7b9fa7c272da2e1d7'}  \n",
       "17  {'offer id': '2906b810c7d4411798c6938adc9daaa5'}  \n",
       "18  {'offer id': '9b98b8c7a33c4b65b9aebfe6a799e6d9'}  \n",
       "19  {'offer id': 'ae264e3637204a6fb9bb56bc8210ddfd'}  "
      ]
     },
     "execution_count": 12,
     "metadata": {},
     "output_type": "execute_result"
    }
   ],
   "source": [
    "print(transcript.shape[0],transcript.shape[1])\n",
    "transcript.head(20)"
   ]
  },
  {
   "cell_type": "code",
   "execution_count": 13,
   "metadata": {},
   "outputs": [
    {
     "data": {
      "text/html": [
       "<div>\n",
       "<style scoped>\n",
       "    .dataframe tbody tr th:only-of-type {\n",
       "        vertical-align: middle;\n",
       "    }\n",
       "\n",
       "    .dataframe tbody tr th {\n",
       "        vertical-align: top;\n",
       "    }\n",
       "\n",
       "    .dataframe thead th {\n",
       "        text-align: right;\n",
       "    }\n",
       "</style>\n",
       "<table border=\"1\" class=\"dataframe\">\n",
       "  <thead>\n",
       "    <tr style=\"text-align: right;\">\n",
       "      <th></th>\n",
       "      <th>time</th>\n",
       "    </tr>\n",
       "  </thead>\n",
       "  <tbody>\n",
       "    <tr>\n",
       "      <th>count</th>\n",
       "      <td>306534.000000</td>\n",
       "    </tr>\n",
       "    <tr>\n",
       "      <th>mean</th>\n",
       "      <td>366.382940</td>\n",
       "    </tr>\n",
       "    <tr>\n",
       "      <th>std</th>\n",
       "      <td>200.326314</td>\n",
       "    </tr>\n",
       "    <tr>\n",
       "      <th>min</th>\n",
       "      <td>0.000000</td>\n",
       "    </tr>\n",
       "    <tr>\n",
       "      <th>25%</th>\n",
       "      <td>186.000000</td>\n",
       "    </tr>\n",
       "    <tr>\n",
       "      <th>50%</th>\n",
       "      <td>408.000000</td>\n",
       "    </tr>\n",
       "    <tr>\n",
       "      <th>75%</th>\n",
       "      <td>528.000000</td>\n",
       "    </tr>\n",
       "    <tr>\n",
       "      <th>max</th>\n",
       "      <td>714.000000</td>\n",
       "    </tr>\n",
       "  </tbody>\n",
       "</table>\n",
       "</div>"
      ],
      "text/plain": [
       "                time\n",
       "count  306534.000000\n",
       "mean      366.382940\n",
       "std       200.326314\n",
       "min         0.000000\n",
       "25%       186.000000\n",
       "50%       408.000000\n",
       "75%       528.000000\n",
       "max       714.000000"
      ]
     },
     "execution_count": 13,
     "metadata": {},
     "output_type": "execute_result"
    }
   ],
   "source": [
    "transcript.describe()"
   ]
  },
  {
   "cell_type": "code",
   "execution_count": 14,
   "metadata": {},
   "outputs": [
    {
     "name": "stdout",
     "output_type": "stream",
     "text": [
      "Percentega of events of the offers in transcript dataframe: transaction        45.330371\n",
      "offer received     24.883700\n",
      "offer viewed       18.831516\n",
      "offer completed    10.954413\n",
      "Name: event, dtype: float64/n"
     ]
    }
   ],
   "source": [
    "print(\"Percentega of events of the offers in transcript dataframe:\",(transcript['event'].value_counts()/transcript.shape[0])*100,end='/n')"
   ]
  },
  {
   "cell_type": "code",
   "execution_count": 15,
   "metadata": {},
   "outputs": [
    {
     "data": {
      "text/html": [
       "<div>\n",
       "<style scoped>\n",
       "    .dataframe tbody tr th:only-of-type {\n",
       "        vertical-align: middle;\n",
       "    }\n",
       "\n",
       "    .dataframe tbody tr th {\n",
       "        vertical-align: top;\n",
       "    }\n",
       "\n",
       "    .dataframe thead th {\n",
       "        text-align: right;\n",
       "    }\n",
       "</style>\n",
       "<table border=\"1\" class=\"dataframe\">\n",
       "  <thead>\n",
       "    <tr style=\"text-align: right;\">\n",
       "      <th></th>\n",
       "      <th>event</th>\n",
       "      <th>person</th>\n",
       "      <th>time</th>\n",
       "      <th>value</th>\n",
       "    </tr>\n",
       "  </thead>\n",
       "  <tbody>\n",
       "    <tr>\n",
       "      <th>12654</th>\n",
       "      <td>transaction</td>\n",
       "      <td>02c083884c7d45b39cc68e1314fec56c</td>\n",
       "      <td>0</td>\n",
       "      <td>{'amount': 0.8300000000000001}</td>\n",
       "    </tr>\n",
       "    <tr>\n",
       "      <th>12657</th>\n",
       "      <td>transaction</td>\n",
       "      <td>9fa9ae8f57894cc9a3b8a9bbe0fc1b2f</td>\n",
       "      <td>0</td>\n",
       "      <td>{'amount': 34.56}</td>\n",
       "    </tr>\n",
       "    <tr>\n",
       "      <th>12659</th>\n",
       "      <td>transaction</td>\n",
       "      <td>54890f68699049c2a04d415abc25e717</td>\n",
       "      <td>0</td>\n",
       "      <td>{'amount': 13.23}</td>\n",
       "    </tr>\n",
       "    <tr>\n",
       "      <th>12670</th>\n",
       "      <td>transaction</td>\n",
       "      <td>b2f1cd155b864803ad8334cdf13c4bd2</td>\n",
       "      <td>0</td>\n",
       "      <td>{'amount': 19.51}</td>\n",
       "    </tr>\n",
       "    <tr>\n",
       "      <th>12671</th>\n",
       "      <td>transaction</td>\n",
       "      <td>fe97aa22dd3e48c8b143116a8403dd52</td>\n",
       "      <td>0</td>\n",
       "      <td>{'amount': 18.97}</td>\n",
       "    </tr>\n",
       "  </tbody>\n",
       "</table>\n",
       "</div>"
      ],
      "text/plain": [
       "             event                            person  time  \\\n",
       "12654  transaction  02c083884c7d45b39cc68e1314fec56c     0   \n",
       "12657  transaction  9fa9ae8f57894cc9a3b8a9bbe0fc1b2f     0   \n",
       "12659  transaction  54890f68699049c2a04d415abc25e717     0   \n",
       "12670  transaction  b2f1cd155b864803ad8334cdf13c4bd2     0   \n",
       "12671  transaction  fe97aa22dd3e48c8b143116a8403dd52     0   \n",
       "\n",
       "                                value  \n",
       "12654  {'amount': 0.8300000000000001}  \n",
       "12657               {'amount': 34.56}  \n",
       "12659               {'amount': 13.23}  \n",
       "12670               {'amount': 19.51}  \n",
       "12671               {'amount': 18.97}  "
      ]
     },
     "execution_count": 15,
     "metadata": {},
     "output_type": "execute_result"
    }
   ],
   "source": [
    "transcript[transcript['event']=='transaction'].head()"
   ]
  },
  {
   "cell_type": "code",
   "execution_count": 16,
   "metadata": {},
   "outputs": [
    {
     "data": {
      "text/html": [
       "<div>\n",
       "<style scoped>\n",
       "    .dataframe tbody tr th:only-of-type {\n",
       "        vertical-align: middle;\n",
       "    }\n",
       "\n",
       "    .dataframe tbody tr th {\n",
       "        vertical-align: top;\n",
       "    }\n",
       "\n",
       "    .dataframe thead th {\n",
       "        text-align: right;\n",
       "    }\n",
       "</style>\n",
       "<table border=\"1\" class=\"dataframe\">\n",
       "  <thead>\n",
       "    <tr style=\"text-align: right;\">\n",
       "      <th></th>\n",
       "      <th>event</th>\n",
       "      <th>person</th>\n",
       "      <th>time</th>\n",
       "      <th>value</th>\n",
       "    </tr>\n",
       "  </thead>\n",
       "  <tbody>\n",
       "    <tr>\n",
       "      <th>0</th>\n",
       "      <td>offer received</td>\n",
       "      <td>78afa995795e4d85b5d9ceeca43f5fef</td>\n",
       "      <td>0</td>\n",
       "      <td>{'offer id': '9b98b8c7a33c4b65b9aebfe6a799e6d9'}</td>\n",
       "    </tr>\n",
       "    <tr>\n",
       "      <th>1</th>\n",
       "      <td>offer received</td>\n",
       "      <td>a03223e636434f42ac4c3df47e8bac43</td>\n",
       "      <td>0</td>\n",
       "      <td>{'offer id': '0b1e1539f2cc45b7b9fa7c272da2e1d7'}</td>\n",
       "    </tr>\n",
       "    <tr>\n",
       "      <th>2</th>\n",
       "      <td>offer received</td>\n",
       "      <td>e2127556f4f64592b11af22de27a7932</td>\n",
       "      <td>0</td>\n",
       "      <td>{'offer id': '2906b810c7d4411798c6938adc9daaa5'}</td>\n",
       "    </tr>\n",
       "    <tr>\n",
       "      <th>3</th>\n",
       "      <td>offer received</td>\n",
       "      <td>8ec6ce2a7e7949b1bf142def7d0e0586</td>\n",
       "      <td>0</td>\n",
       "      <td>{'offer id': 'fafdcd668e3743c1bb461111dcafc2a4'}</td>\n",
       "    </tr>\n",
       "    <tr>\n",
       "      <th>4</th>\n",
       "      <td>offer received</td>\n",
       "      <td>68617ca6246f4fbc85e91a2a49552598</td>\n",
       "      <td>0</td>\n",
       "      <td>{'offer id': '4d5c57ea9a6940dd891ad53e9dbe8da0'}</td>\n",
       "    </tr>\n",
       "  </tbody>\n",
       "</table>\n",
       "</div>"
      ],
      "text/plain": [
       "            event                            person  time  \\\n",
       "0  offer received  78afa995795e4d85b5d9ceeca43f5fef     0   \n",
       "1  offer received  a03223e636434f42ac4c3df47e8bac43     0   \n",
       "2  offer received  e2127556f4f64592b11af22de27a7932     0   \n",
       "3  offer received  8ec6ce2a7e7949b1bf142def7d0e0586     0   \n",
       "4  offer received  68617ca6246f4fbc85e91a2a49552598     0   \n",
       "\n",
       "                                              value  \n",
       "0  {'offer id': '9b98b8c7a33c4b65b9aebfe6a799e6d9'}  \n",
       "1  {'offer id': '0b1e1539f2cc45b7b9fa7c272da2e1d7'}  \n",
       "2  {'offer id': '2906b810c7d4411798c6938adc9daaa5'}  \n",
       "3  {'offer id': 'fafdcd668e3743c1bb461111dcafc2a4'}  \n",
       "4  {'offer id': '4d5c57ea9a6940dd891ad53e9dbe8da0'}  "
      ]
     },
     "execution_count": 16,
     "metadata": {},
     "output_type": "execute_result"
    }
   ],
   "source": [
    "transcript[transcript['event']=='offer received'].head()"
   ]
  },
  {
   "cell_type": "code",
   "execution_count": 17,
   "metadata": {},
   "outputs": [
    {
     "data": {
      "text/html": [
       "<div>\n",
       "<style scoped>\n",
       "    .dataframe tbody tr th:only-of-type {\n",
       "        vertical-align: middle;\n",
       "    }\n",
       "\n",
       "    .dataframe tbody tr th {\n",
       "        vertical-align: top;\n",
       "    }\n",
       "\n",
       "    .dataframe thead th {\n",
       "        text-align: right;\n",
       "    }\n",
       "</style>\n",
       "<table border=\"1\" class=\"dataframe\">\n",
       "  <thead>\n",
       "    <tr style=\"text-align: right;\">\n",
       "      <th></th>\n",
       "      <th>event</th>\n",
       "      <th>person</th>\n",
       "      <th>time</th>\n",
       "      <th>value</th>\n",
       "    </tr>\n",
       "  </thead>\n",
       "  <tbody>\n",
       "    <tr>\n",
       "      <th>12650</th>\n",
       "      <td>offer viewed</td>\n",
       "      <td>389bc3fa690240e798340f5a15918d5c</td>\n",
       "      <td>0</td>\n",
       "      <td>{'offer id': 'f19421c1d4aa40978ebb69ca19b0e20d'}</td>\n",
       "    </tr>\n",
       "    <tr>\n",
       "      <th>12651</th>\n",
       "      <td>offer viewed</td>\n",
       "      <td>d1ede868e29245ea91818a903fec04c6</td>\n",
       "      <td>0</td>\n",
       "      <td>{'offer id': '5a8bc65990b245e5a138643cd4eb9837'}</td>\n",
       "    </tr>\n",
       "    <tr>\n",
       "      <th>12652</th>\n",
       "      <td>offer viewed</td>\n",
       "      <td>102e9454054946fda62242d2e176fdce</td>\n",
       "      <td>0</td>\n",
       "      <td>{'offer id': '4d5c57ea9a6940dd891ad53e9dbe8da0'}</td>\n",
       "    </tr>\n",
       "    <tr>\n",
       "      <th>12653</th>\n",
       "      <td>offer viewed</td>\n",
       "      <td>02c083884c7d45b39cc68e1314fec56c</td>\n",
       "      <td>0</td>\n",
       "      <td>{'offer id': 'ae264e3637204a6fb9bb56bc8210ddfd'}</td>\n",
       "    </tr>\n",
       "    <tr>\n",
       "      <th>12655</th>\n",
       "      <td>offer viewed</td>\n",
       "      <td>be8a5d1981a2458d90b255ddc7e0d174</td>\n",
       "      <td>0</td>\n",
       "      <td>{'offer id': '5a8bc65990b245e5a138643cd4eb9837'}</td>\n",
       "    </tr>\n",
       "  </tbody>\n",
       "</table>\n",
       "</div>"
      ],
      "text/plain": [
       "              event                            person  time  \\\n",
       "12650  offer viewed  389bc3fa690240e798340f5a15918d5c     0   \n",
       "12651  offer viewed  d1ede868e29245ea91818a903fec04c6     0   \n",
       "12652  offer viewed  102e9454054946fda62242d2e176fdce     0   \n",
       "12653  offer viewed  02c083884c7d45b39cc68e1314fec56c     0   \n",
       "12655  offer viewed  be8a5d1981a2458d90b255ddc7e0d174     0   \n",
       "\n",
       "                                                  value  \n",
       "12650  {'offer id': 'f19421c1d4aa40978ebb69ca19b0e20d'}  \n",
       "12651  {'offer id': '5a8bc65990b245e5a138643cd4eb9837'}  \n",
       "12652  {'offer id': '4d5c57ea9a6940dd891ad53e9dbe8da0'}  \n",
       "12653  {'offer id': 'ae264e3637204a6fb9bb56bc8210ddfd'}  \n",
       "12655  {'offer id': '5a8bc65990b245e5a138643cd4eb9837'}  "
      ]
     },
     "execution_count": 17,
     "metadata": {},
     "output_type": "execute_result"
    }
   ],
   "source": [
    "transcript[transcript['event']=='offer viewed'].head()"
   ]
  },
  {
   "cell_type": "code",
   "execution_count": 18,
   "metadata": {},
   "outputs": [
    {
     "data": {
      "text/html": [
       "<div>\n",
       "<style scoped>\n",
       "    .dataframe tbody tr th:only-of-type {\n",
       "        vertical-align: middle;\n",
       "    }\n",
       "\n",
       "    .dataframe tbody tr th {\n",
       "        vertical-align: top;\n",
       "    }\n",
       "\n",
       "    .dataframe thead th {\n",
       "        text-align: right;\n",
       "    }\n",
       "</style>\n",
       "<table border=\"1\" class=\"dataframe\">\n",
       "  <thead>\n",
       "    <tr style=\"text-align: right;\">\n",
       "      <th></th>\n",
       "      <th>event</th>\n",
       "      <th>person</th>\n",
       "      <th>time</th>\n",
       "      <th>value</th>\n",
       "    </tr>\n",
       "  </thead>\n",
       "  <tbody>\n",
       "    <tr>\n",
       "      <th>12658</th>\n",
       "      <td>offer completed</td>\n",
       "      <td>9fa9ae8f57894cc9a3b8a9bbe0fc1b2f</td>\n",
       "      <td>0</td>\n",
       "      <td>{'offer_id': '2906b810c7d4411798c6938adc9daaa5...</td>\n",
       "    </tr>\n",
       "    <tr>\n",
       "      <th>12672</th>\n",
       "      <td>offer completed</td>\n",
       "      <td>fe97aa22dd3e48c8b143116a8403dd52</td>\n",
       "      <td>0</td>\n",
       "      <td>{'offer_id': 'fafdcd668e3743c1bb461111dcafc2a4...</td>\n",
       "    </tr>\n",
       "    <tr>\n",
       "      <th>12679</th>\n",
       "      <td>offer completed</td>\n",
       "      <td>629fc02d56414d91bca360decdfa9288</td>\n",
       "      <td>0</td>\n",
       "      <td>{'offer_id': '9b98b8c7a33c4b65b9aebfe6a799e6d9...</td>\n",
       "    </tr>\n",
       "    <tr>\n",
       "      <th>12692</th>\n",
       "      <td>offer completed</td>\n",
       "      <td>676506bad68e4161b9bbaffeb039626b</td>\n",
       "      <td>0</td>\n",
       "      <td>{'offer_id': 'ae264e3637204a6fb9bb56bc8210ddfd...</td>\n",
       "    </tr>\n",
       "    <tr>\n",
       "      <th>12697</th>\n",
       "      <td>offer completed</td>\n",
       "      <td>8f7dd3b2afe14c078eb4f6e6fe4ba97d</td>\n",
       "      <td>0</td>\n",
       "      <td>{'offer_id': '4d5c57ea9a6940dd891ad53e9dbe8da0...</td>\n",
       "    </tr>\n",
       "  </tbody>\n",
       "</table>\n",
       "</div>"
      ],
      "text/plain": [
       "                 event                            person  time  \\\n",
       "12658  offer completed  9fa9ae8f57894cc9a3b8a9bbe0fc1b2f     0   \n",
       "12672  offer completed  fe97aa22dd3e48c8b143116a8403dd52     0   \n",
       "12679  offer completed  629fc02d56414d91bca360decdfa9288     0   \n",
       "12692  offer completed  676506bad68e4161b9bbaffeb039626b     0   \n",
       "12697  offer completed  8f7dd3b2afe14c078eb4f6e6fe4ba97d     0   \n",
       "\n",
       "                                                   value  \n",
       "12658  {'offer_id': '2906b810c7d4411798c6938adc9daaa5...  \n",
       "12672  {'offer_id': 'fafdcd668e3743c1bb461111dcafc2a4...  \n",
       "12679  {'offer_id': '9b98b8c7a33c4b65b9aebfe6a799e6d9...  \n",
       "12692  {'offer_id': 'ae264e3637204a6fb9bb56bc8210ddfd...  \n",
       "12697  {'offer_id': '4d5c57ea9a6940dd891ad53e9dbe8da0...  "
      ]
     },
     "execution_count": 18,
     "metadata": {},
     "output_type": "execute_result"
    }
   ],
   "source": [
    "transcript[transcript['event']=='offer completed'].head()"
   ]
  },
  {
   "cell_type": "markdown",
   "metadata": {},
   "source": [
    "#### Only when the record event is transaction means that the customers has purchased something or made a transaction and the amount spent will be shown in value column"
   ]
  },
  {
   "cell_type": "markdown",
   "metadata": {},
   "source": [
    "# Data Visualization"
   ]
  },
  {
   "cell_type": "code",
   "execution_count": 19,
   "metadata": {},
   "outputs": [
    {
     "data": {
      "text/plain": [
       "<matplotlib.axes._subplots.AxesSubplot at 0x7f736afaf3c8>"
      ]
     },
     "execution_count": 19,
     "metadata": {},
     "output_type": "execute_result"
    },
    {
     "data": {
      "image/png": "[encoded data removed]",
      "text/plain": [
       "<matplotlib.figure.Figure at 0x7f7369e16080>"
      ]
     },
     "metadata": {
      "needs_background": "light"
     },
     "output_type": "display_data"
    }
   ],
   "source": [
    "plt.title(\"Count of customers by gender\")\n",
    "sns.countplot(x='gender',data=profile)"
   ]
  },
  {
   "cell_type": "code",
   "execution_count": 20,
   "metadata": {},
   "outputs": [
    {
     "data": {
      "text/plain": [
       "Text(0,0.5,'Avg Age')"
      ]
     },
     "execution_count": 20,
     "metadata": {},
     "output_type": "execute_result"
    },
    {
     "data": {
      "image/png": "[encoded data removed]",
      "text/plain": [
       "<matplotlib.figure.Figure at 0x7f736af59ac8>"
      ]
     },
     "metadata": {
      "needs_background": "light"
     },
     "output_type": "display_data"
    }
   ],
   "source": [
    "plt.title(\"Average customers age by gender\")\n",
    "profile.groupby('gender')['age'].mean().plot(kind='bar')\n",
    "plt.xlabel('Gender')\n",
    "plt.ylabel('Avg Age')"
   ]
  },
  {
   "cell_type": "code",
   "execution_count": 21,
   "metadata": {},
   "outputs": [
    {
     "name": "stdout",
     "output_type": "stream",
     "text": [
      "As we can see , income increases by age\n"
     ]
    },
    {
     "data": {
      "text/plain": [
       "Text(0,0.5,'Avg Income')"
      ]
     },
     "execution_count": 21,
     "metadata": {},
     "output_type": "execute_result"
    },
    {
     "data": {
      "image/png": "[encoded data removed]",
      "text/plain": [
       "<matplotlib.figure.Figure at 0x7f7369e11d68>"
      ]
     },
     "metadata": {
      "needs_background": "light"
     },
     "output_type": "display_data"
    }
   ],
   "source": [
    "plt.title(\"Average customer's income by age\")\n",
    "print('As we can see , income increases by age')\n",
    "profile.groupby('age')['income'].mean().plot(kind='line')\n",
    "plt.xlabel('Age')\n",
    "plt.ylabel('Avg Income')"
   ]
  },
  {
   "cell_type": "code",
   "execution_count": 22,
   "metadata": {},
   "outputs": [
    {
     "data": {
      "text/plain": [
       "Text(0,0.5,'Count')"
      ]
     },
     "execution_count": 22,
     "metadata": {},
     "output_type": "execute_result"
    },
    {
     "data": {
      "image/png": "[encoded data removed]",
      "text/plain": [
       "<matplotlib.figure.Figure at 0x7f736af1aba8>"
      ]
     },
     "metadata": {
      "needs_background": "light"
     },
     "output_type": "display_data"
    }
   ],
   "source": [
    "profile.age.hist(bins=25)\n",
    "plt.xlabel(\"Age Group\")\n",
    "plt.ylabel(\"Count\")"
   ]
  },
  {
   "cell_type": "markdown",
   "metadata": {},
   "source": [
    "### As we saw before in EDA part, most of our customers are males then females and then other. We can also say that females have a higher average age than the other 2 categories. We can say that the older the customers the higher their incomes. But later we analysed the whole age groups and count on how many of them fall into these age groups and we can say that most of them have declared an age of 118 which might be a value of null, no declaration of age which makes them outliers."
   ]
  },
  {
   "cell_type": "code",
   "execution_count": 23,
   "metadata": {},
   "outputs": [
    {
     "data": {
      "text/plain": [
       "Text(0,0.5,'Count')"
      ]
     },
     "execution_count": 23,
     "metadata": {},
     "output_type": "execute_result"
    },
    {
     "data": {
      "image/png": "[encoded data removed]",
      "text/plain": [
       "<matplotlib.figure.Figure at 0x7f736aec8198>"
      ]
     },
     "metadata": {
      "needs_background": "light"
     },
     "output_type": "display_data"
    }
   ],
   "source": [
    "from collections import Counter\n",
    "channels=[]\n",
    "for i in portfolio['channels']:\n",
    "    for j in i:\n",
    "        channels.append(j)\n",
    "channels\n",
    "channels_counts=Counter(channels)\n",
    "channel_keys=list(channels_counts.keys())\n",
    "channel_values=list(channels_counts.values())\n",
    "plt.title(\"Most used channels to send offers\")\n",
    "plt.bar(channel_keys,channel_values)\n",
    "plt.xlabel('Channels')\n",
    "plt.ylabel('Count')"
   ]
  },
  {
   "cell_type": "code",
   "execution_count": 24,
   "metadata": {},
   "outputs": [
    {
     "data": {
      "text/plain": [
       "Text(0,0.5,'Count')"
      ]
     },
     "execution_count": 24,
     "metadata": {},
     "output_type": "execute_result"
    },
    {
     "data": {
      "image/png": "[encoded data removed]",
      "text/plain": [
       "<matplotlib.figure.Figure at 0x7f736ae9aa20>"
      ]
     },
     "metadata": {
      "needs_background": "light"
     },
     "output_type": "display_data"
    }
   ],
   "source": [
    "plt.title('Count of offer types')\n",
    "portfolio['offer_type'].value_counts().plot(kind='bar')\n",
    "plt.xlabel('Offer Type')\n",
    "plt.ylabel('Count')"
   ]
  },
  {
   "cell_type": "code",
   "execution_count": 25,
   "metadata": {},
   "outputs": [
    {
     "data": {
      "text/plain": [
       "Text(0,0.5,'Reward')"
      ]
     },
     "execution_count": 25,
     "metadata": {},
     "output_type": "execute_result"
    },
    {
     "data": {
      "image/png": "[encoded data removed]",
      "text/plain": [
       "<matplotlib.figure.Figure at 0x7f736ae89828>"
      ]
     },
     "metadata": {
      "needs_background": "light"
     },
     "output_type": "display_data"
    }
   ],
   "source": [
    "plt.title('Average reward value by all type of offers')\n",
    "portfolio.groupby('offer_type')['reward'].mean().plot(kind='bar')\n",
    "plt.xlabel('Offer Type')\n",
    "plt.ylabel(\"Reward\")"
   ]
  },
  {
   "cell_type": "code",
   "execution_count": 26,
   "metadata": {},
   "outputs": [
    {
     "data": {
      "text/plain": [
       "Text(0,0.5,'Duration')"
      ]
     },
     "execution_count": 26,
     "metadata": {},
     "output_type": "execute_result"
    },
    {
     "data": {
      "image/png": "[encoded data removed]",
      "text/plain": [
       "<matplotlib.figure.Figure at 0x7f736ae1e358>"
      ]
     },
     "metadata": {
      "needs_background": "light"
     },
     "output_type": "display_data"
    }
   ],
   "source": [
    "plt.title('Average duration value by all type of offers')\n",
    "portfolio.groupby('offer_type')['duration'].mean().plot(kind='bar')\n",
    "plt.xlabel('Offer Type')\n",
    "plt.ylabel(\"Duration\")"
   ]
  },
  {
   "cell_type": "markdown",
   "metadata": {},
   "source": [
    "#### There are 4 types of bogos and 4 types of discount while only 2 types of informatonal orders. But when analyzing in terms of total reward that the customer gets from bogos we can see that customers get more from bogos than discounts while informational have a 0 value of reward as expected. But when it comes to duration discounts last more than bogos so customers who get discounts may have more time to spend it than when getting a bogo type of offer."
   ]
  },
  {
   "cell_type": "code",
   "execution_count": 2,
   "metadata": {},
   "outputs": [
    {
     "data": {
      "text/html": [
       "<div>\n",
       "<style scoped>\n",
       "    .dataframe tbody tr th:only-of-type {\n",
       "        vertical-align: middle;\n",
       "    }\n",
       "\n",
       "    .dataframe tbody tr th {\n",
       "        vertical-align: top;\n",
       "    }\n",
       "\n",
       "    .dataframe thead th {\n",
       "        text-align: right;\n",
       "    }\n",
       "</style>\n",
       "<table border=\"1\" class=\"dataframe\">\n",
       "  <thead>\n",
       "    <tr style=\"text-align: right;\">\n",
       "      <th></th>\n",
       "      <th>event</th>\n",
       "      <th>person</th>\n",
       "      <th>time</th>\n",
       "      <th>value</th>\n",
       "      <th>type_of_val</th>\n",
       "      <th>value_of_val</th>\n",
       "    </tr>\n",
       "  </thead>\n",
       "  <tbody>\n",
       "    <tr>\n",
       "      <th>0</th>\n",
       "      <td>offer received</td>\n",
       "      <td>78afa995795e4d85b5d9ceeca43f5fef</td>\n",
       "      <td>0</td>\n",
       "      <td>{'offer id': '9b98b8c7a33c4b65b9aebfe6a799e6d9'}</td>\n",
       "      <td>offer id</td>\n",
       "      <td>9b98b8c7a33c4b65b9aebfe6a799e6d9</td>\n",
       "    </tr>\n",
       "    <tr>\n",
       "      <th>1</th>\n",
       "      <td>offer received</td>\n",
       "      <td>a03223e636434f42ac4c3df47e8bac43</td>\n",
       "      <td>0</td>\n",
       "      <td>{'offer id': '0b1e1539f2cc45b7b9fa7c272da2e1d7'}</td>\n",
       "      <td>offer id</td>\n",
       "      <td>0b1e1539f2cc45b7b9fa7c272da2e1d7</td>\n",
       "    </tr>\n",
       "    <tr>\n",
       "      <th>2</th>\n",
       "      <td>offer received</td>\n",
       "      <td>e2127556f4f64592b11af22de27a7932</td>\n",
       "      <td>0</td>\n",
       "      <td>{'offer id': '2906b810c7d4411798c6938adc9daaa5'}</td>\n",
       "      <td>offer id</td>\n",
       "      <td>2906b810c7d4411798c6938adc9daaa5</td>\n",
       "    </tr>\n",
       "    <tr>\n",
       "      <th>3</th>\n",
       "      <td>offer received</td>\n",
       "      <td>8ec6ce2a7e7949b1bf142def7d0e0586</td>\n",
       "      <td>0</td>\n",
       "      <td>{'offer id': 'fafdcd668e3743c1bb461111dcafc2a4'}</td>\n",
       "      <td>offer id</td>\n",
       "      <td>fafdcd668e3743c1bb461111dcafc2a4</td>\n",
       "    </tr>\n",
       "    <tr>\n",
       "      <th>4</th>\n",
       "      <td>offer received</td>\n",
       "      <td>68617ca6246f4fbc85e91a2a49552598</td>\n",
       "      <td>0</td>\n",
       "      <td>{'offer id': '4d5c57ea9a6940dd891ad53e9dbe8da0'}</td>\n",
       "      <td>offer id</td>\n",
       "      <td>4d5c57ea9a6940dd891ad53e9dbe8da0</td>\n",
       "    </tr>\n",
       "  </tbody>\n",
       "</table>\n",
       "</div>"
      ],
      "text/plain": [
       "            event                            person  time  \\\n",
       "0  offer received  78afa995795e4d85b5d9ceeca43f5fef     0   \n",
       "1  offer received  a03223e636434f42ac4c3df47e8bac43     0   \n",
       "2  offer received  e2127556f4f64592b11af22de27a7932     0   \n",
       "3  offer received  8ec6ce2a7e7949b1bf142def7d0e0586     0   \n",
       "4  offer received  68617ca6246f4fbc85e91a2a49552598     0   \n",
       "\n",
       "                                              value type_of_val  \\\n",
       "0  {'offer id': '9b98b8c7a33c4b65b9aebfe6a799e6d9'}    offer id   \n",
       "1  {'offer id': '0b1e1539f2cc45b7b9fa7c272da2e1d7'}    offer id   \n",
       "2  {'offer id': '2906b810c7d4411798c6938adc9daaa5'}    offer id   \n",
       "3  {'offer id': 'fafdcd668e3743c1bb461111dcafc2a4'}    offer id   \n",
       "4  {'offer id': '4d5c57ea9a6940dd891ad53e9dbe8da0'}    offer id   \n",
       "\n",
       "                       value_of_val  \n",
       "0  9b98b8c7a33c4b65b9aebfe6a799e6d9  \n",
       "1  0b1e1539f2cc45b7b9fa7c272da2e1d7  \n",
       "2  2906b810c7d4411798c6938adc9daaa5  \n",
       "3  fafdcd668e3743c1bb461111dcafc2a4  \n",
       "4  4d5c57ea9a6940dd891ad53e9dbe8da0  "
      ]
     },
     "execution_count": 2,
     "metadata": {},
     "output_type": "execute_result"
    }
   ],
   "source": [
    "transcript['value']=transcript['value'].astype(str)\n",
    "split_values = transcript['value'].str.strip('{}').str.split(':', 1,expand=True)\n",
    "split_values.columns = ['type_of_val', 'value_of_val']\n",
    "# Remove leading and trailing whitespaces\n",
    "split_values['type_of_val'] = split_values['type_of_val'].str.strip().str.replace(\"'\",\"\")\n",
    "split_values['value_of_val'] = split_values['value_of_val'].str.strip().str.replace(\"'\",\"\")\n",
    "new_transcript=pd.concat([transcript,split_values],axis=1)\n",
    "new_transcript.head()"
   ]
  },
  {
   "cell_type": "code",
   "execution_count": 3,
   "metadata": {},
   "outputs": [
    {
     "data": {
      "text/plain": [
       "array(['offer id', 'amount', 'offer_id'], dtype=object)"
      ]
     },
     "execution_count": 3,
     "metadata": {},
     "output_type": "execute_result"
    }
   ],
   "source": [
    "new_transcript['type_of_val'].unique()"
   ]
  },
  {
   "cell_type": "code",
   "execution_count": 4,
   "metadata": {},
   "outputs": [
    {
     "data": {
      "text/html": [
       "<div>\n",
       "<style scoped>\n",
       "    .dataframe tbody tr th:only-of-type {\n",
       "        vertical-align: middle;\n",
       "    }\n",
       "\n",
       "    .dataframe tbody tr th {\n",
       "        vertical-align: top;\n",
       "    }\n",
       "\n",
       "    .dataframe thead th {\n",
       "        text-align: right;\n",
       "    }\n",
       "</style>\n",
       "<table border=\"1\" class=\"dataframe\">\n",
       "  <thead>\n",
       "    <tr style=\"text-align: right;\">\n",
       "      <th></th>\n",
       "      <th>event</th>\n",
       "      <th>person</th>\n",
       "      <th>time</th>\n",
       "      <th>value</th>\n",
       "      <th>type_of_val</th>\n",
       "      <th>value_of_val</th>\n",
       "      <th>age</th>\n",
       "      <th>became_member_on</th>\n",
       "      <th>gender</th>\n",
       "      <th>id</th>\n",
       "      <th>income</th>\n",
       "    </tr>\n",
       "  </thead>\n",
       "  <tbody>\n",
       "    <tr>\n",
       "      <th>0</th>\n",
       "      <td>transaction</td>\n",
       "      <td>02c083884c7d45b39cc68e1314fec56c</td>\n",
       "      <td>0</td>\n",
       "      <td>{'amount': 0.8300000000000001}</td>\n",
       "      <td>amount</td>\n",
       "      <td>0.8300000000000001</td>\n",
       "      <td>20</td>\n",
       "      <td>2016-07-11</td>\n",
       "      <td>F</td>\n",
       "      <td>02c083884c7d45b39cc68e1314fec56c</td>\n",
       "      <td>30000.0</td>\n",
       "    </tr>\n",
       "    <tr>\n",
       "      <th>1</th>\n",
       "      <td>transaction</td>\n",
       "      <td>9fa9ae8f57894cc9a3b8a9bbe0fc1b2f</td>\n",
       "      <td>0</td>\n",
       "      <td>{'amount': 34.56}</td>\n",
       "      <td>amount</td>\n",
       "      <td>34.56</td>\n",
       "      <td>42</td>\n",
       "      <td>2016-01-17</td>\n",
       "      <td>M</td>\n",
       "      <td>9fa9ae8f57894cc9a3b8a9bbe0fc1b2f</td>\n",
       "      <td>96000.0</td>\n",
       "    </tr>\n",
       "    <tr>\n",
       "      <th>2</th>\n",
       "      <td>transaction</td>\n",
       "      <td>54890f68699049c2a04d415abc25e717</td>\n",
       "      <td>0</td>\n",
       "      <td>{'amount': 13.23}</td>\n",
       "      <td>amount</td>\n",
       "      <td>13.23</td>\n",
       "      <td>36</td>\n",
       "      <td>2017-12-28</td>\n",
       "      <td>M</td>\n",
       "      <td>54890f68699049c2a04d415abc25e717</td>\n",
       "      <td>56000.0</td>\n",
       "    </tr>\n",
       "    <tr>\n",
       "      <th>3</th>\n",
       "      <td>transaction</td>\n",
       "      <td>b2f1cd155b864803ad8334cdf13c4bd2</td>\n",
       "      <td>0</td>\n",
       "      <td>{'amount': 19.51}</td>\n",
       "      <td>amount</td>\n",
       "      <td>19.51</td>\n",
       "      <td>55</td>\n",
       "      <td>2017-10-16</td>\n",
       "      <td>F</td>\n",
       "      <td>b2f1cd155b864803ad8334cdf13c4bd2</td>\n",
       "      <td>94000.0</td>\n",
       "    </tr>\n",
       "    <tr>\n",
       "      <th>4</th>\n",
       "      <td>transaction</td>\n",
       "      <td>fe97aa22dd3e48c8b143116a8403dd52</td>\n",
       "      <td>0</td>\n",
       "      <td>{'amount': 18.97}</td>\n",
       "      <td>amount</td>\n",
       "      <td>18.97</td>\n",
       "      <td>39</td>\n",
       "      <td>2017-12-17</td>\n",
       "      <td>F</td>\n",
       "      <td>fe97aa22dd3e48c8b143116a8403dd52</td>\n",
       "      <td>67000.0</td>\n",
       "    </tr>\n",
       "  </tbody>\n",
       "</table>\n",
       "</div>"
      ],
      "text/plain": [
       "         event                            person  time  \\\n",
       "0  transaction  02c083884c7d45b39cc68e1314fec56c     0   \n",
       "1  transaction  9fa9ae8f57894cc9a3b8a9bbe0fc1b2f     0   \n",
       "2  transaction  54890f68699049c2a04d415abc25e717     0   \n",
       "3  transaction  b2f1cd155b864803ad8334cdf13c4bd2     0   \n",
       "4  transaction  fe97aa22dd3e48c8b143116a8403dd52     0   \n",
       "\n",
       "                            value type_of_val        value_of_val  age  \\\n",
       "0  {'amount': 0.8300000000000001}      amount  0.8300000000000001   20   \n",
       "1               {'amount': 34.56}      amount               34.56   42   \n",
       "2               {'amount': 13.23}      amount               13.23   36   \n",
       "3               {'amount': 19.51}      amount               19.51   55   \n",
       "4               {'amount': 18.97}      amount               18.97   39   \n",
       "\n",
       "  became_member_on gender                                id   income  \n",
       "0       2016-07-11      F  02c083884c7d45b39cc68e1314fec56c  30000.0  \n",
       "1       2016-01-17      M  9fa9ae8f57894cc9a3b8a9bbe0fc1b2f  96000.0  \n",
       "2       2017-12-28      M  54890f68699049c2a04d415abc25e717  56000.0  \n",
       "3       2017-10-16      F  b2f1cd155b864803ad8334cdf13c4bd2  94000.0  \n",
       "4       2017-12-17      F  fe97aa22dd3e48c8b143116a8403dd52  67000.0  "
      ]
     },
     "execution_count": 4,
     "metadata": {},
     "output_type": "execute_result"
    }
   ],
   "source": [
    "tt=new_transcript[new_transcript['type_of_val']=='amount']\n",
    "df=pd.merge(tt,profile,left_on='person',right_on='id',how='left')\n",
    "\n",
    "df['became_member_on'] = pd.to_datetime(df['became_member_on'], format='%Y%m%d')\n",
    "df.head()"
   ]
  },
  {
   "cell_type": "code",
   "execution_count": 30,
   "metadata": {},
   "outputs": [
    {
     "data": {
      "text/plain": [
       "<matplotlib.axes._subplots.AxesSubplot at 0x7f73637e1400>"
      ]
     },
     "execution_count": 30,
     "metadata": {},
     "output_type": "execute_result"
    },
    {
     "data": {
      "image/png": "[encoded data removed]",
      "text/plain": [
       "<matplotlib.figure.Figure at 0x7f736adfda58>"
      ]
     },
     "metadata": {
      "needs_background": "light"
     },
     "output_type": "display_data"
    }
   ],
   "source": [
    "plt.title('Starbucks Membership yearly overview')\n",
    "df['became_member_on'].hist()"
   ]
  },
  {
   "cell_type": "code",
   "execution_count": 31,
   "metadata": {},
   "outputs": [
    {
     "data": {
      "text/plain": [
       "<matplotlib.axes._subplots.AxesSubplot at 0x7f7363822eb8>"
      ]
     },
     "execution_count": 31,
     "metadata": {},
     "output_type": "execute_result"
    },
    {
     "data": {
      "image/png": "[encoded data removed]",
      "text/plain": [
       "<matplotlib.figure.Figure at 0x7f736ae2e3c8>"
      ]
     },
     "metadata": {
      "needs_background": "light"
     },
     "output_type": "display_data"
    }
   ],
   "source": [
    "plt.title('Amount spent on offers by year')\n",
    "non_null_amount=df[df['type_of_val']=='amount']\n",
    "non_null_amount['value_of_val']=pd.to_numeric(non_null_amount['value_of_val'])\n",
    "non_null_amount.groupby(non_null_amount['became_member_on'].dt.year)['value_of_val'].sum().plot(kind='bar')"
   ]
  },
  {
   "cell_type": "code",
   "execution_count": 32,
   "metadata": {},
   "outputs": [
    {
     "data": {
      "text/plain": [
       "<matplotlib.axes._subplots.AxesSubplot at 0x7f736380ec50>"
      ]
     },
     "execution_count": 32,
     "metadata": {},
     "output_type": "execute_result"
    },
    {
     "data": {
      "image/png": "[encoded data removed]",
      "text/plain": [
       "<matplotlib.figure.Figure at 0x7f73637f7e80>"
      ]
     },
     "metadata": {
      "needs_background": "light"
     },
     "output_type": "display_data"
    }
   ],
   "source": [
    "plt.title('Amount spent on offers by gender')\n",
    "non_null_amount.groupby('gender')['value_of_val'].sum().plot(kind='bar')"
   ]
  },
  {
   "cell_type": "code",
   "execution_count": 33,
   "metadata": {},
   "outputs": [
    {
     "data": {
      "text/plain": [
       "<matplotlib.axes._subplots.AxesSubplot at 0x7f73637f7a20>"
      ]
     },
     "execution_count": 33,
     "metadata": {},
     "output_type": "execute_result"
    },
    {
     "data": {
      "image/png": "[encoded data removed]",
      "text/plain": [
       "<matplotlib.figure.Figure at 0x7f736386c048>"
      ]
     },
     "metadata": {
      "needs_background": "light"
     },
     "output_type": "display_data"
    }
   ],
   "source": [
    "plt.title('Amount spent on offers by age')\n",
    "non_null_amount.groupby('age')['value_of_val'].sum().plot()"
   ]
  },
  {
   "cell_type": "markdown",
   "metadata": {},
   "source": [
    "# Data Cleaning "
   ]
  },
  {
   "cell_type": "markdown",
   "metadata": {},
   "source": [
    "#### Predicting based on how much a customer will spend then we need the already cleaned and joined dataframe from above df"
   ]
  },
  {
   "cell_type": "code",
   "execution_count": 5,
   "metadata": {},
   "outputs": [
    {
     "data": {
      "text/html": [
       "<div>\n",
       "<style scoped>\n",
       "    .dataframe tbody tr th:only-of-type {\n",
       "        vertical-align: middle;\n",
       "    }\n",
       "\n",
       "    .dataframe tbody tr th {\n",
       "        vertical-align: top;\n",
       "    }\n",
       "\n",
       "    .dataframe thead th {\n",
       "        text-align: right;\n",
       "    }\n",
       "</style>\n",
       "<table border=\"1\" class=\"dataframe\">\n",
       "  <thead>\n",
       "    <tr style=\"text-align: right;\">\n",
       "      <th></th>\n",
       "      <th>event</th>\n",
       "      <th>person</th>\n",
       "      <th>time</th>\n",
       "      <th>value</th>\n",
       "      <th>type_of_val</th>\n",
       "      <th>value_of_val</th>\n",
       "      <th>age</th>\n",
       "      <th>became_member_on</th>\n",
       "      <th>gender</th>\n",
       "      <th>id</th>\n",
       "      <th>income</th>\n",
       "    </tr>\n",
       "  </thead>\n",
       "  <tbody>\n",
       "    <tr>\n",
       "      <th>0</th>\n",
       "      <td>transaction</td>\n",
       "      <td>02c083884c7d45b39cc68e1314fec56c</td>\n",
       "      <td>0</td>\n",
       "      <td>{'amount': 0.8300000000000001}</td>\n",
       "      <td>amount</td>\n",
       "      <td>0.8300000000000001</td>\n",
       "      <td>20</td>\n",
       "      <td>2016-07-11</td>\n",
       "      <td>F</td>\n",
       "      <td>02c083884c7d45b39cc68e1314fec56c</td>\n",
       "      <td>30000.0</td>\n",
       "    </tr>\n",
       "    <tr>\n",
       "      <th>1</th>\n",
       "      <td>transaction</td>\n",
       "      <td>9fa9ae8f57894cc9a3b8a9bbe0fc1b2f</td>\n",
       "      <td>0</td>\n",
       "      <td>{'amount': 34.56}</td>\n",
       "      <td>amount</td>\n",
       "      <td>34.56</td>\n",
       "      <td>42</td>\n",
       "      <td>2016-01-17</td>\n",
       "      <td>M</td>\n",
       "      <td>9fa9ae8f57894cc9a3b8a9bbe0fc1b2f</td>\n",
       "      <td>96000.0</td>\n",
       "    </tr>\n",
       "    <tr>\n",
       "      <th>2</th>\n",
       "      <td>transaction</td>\n",
       "      <td>54890f68699049c2a04d415abc25e717</td>\n",
       "      <td>0</td>\n",
       "      <td>{'amount': 13.23}</td>\n",
       "      <td>amount</td>\n",
       "      <td>13.23</td>\n",
       "      <td>36</td>\n",
       "      <td>2017-12-28</td>\n",
       "      <td>M</td>\n",
       "      <td>54890f68699049c2a04d415abc25e717</td>\n",
       "      <td>56000.0</td>\n",
       "    </tr>\n",
       "    <tr>\n",
       "      <th>3</th>\n",
       "      <td>transaction</td>\n",
       "      <td>b2f1cd155b864803ad8334cdf13c4bd2</td>\n",
       "      <td>0</td>\n",
       "      <td>{'amount': 19.51}</td>\n",
       "      <td>amount</td>\n",
       "      <td>19.51</td>\n",
       "      <td>55</td>\n",
       "      <td>2017-10-16</td>\n",
       "      <td>F</td>\n",
       "      <td>b2f1cd155b864803ad8334cdf13c4bd2</td>\n",
       "      <td>94000.0</td>\n",
       "    </tr>\n",
       "    <tr>\n",
       "      <th>4</th>\n",
       "      <td>transaction</td>\n",
       "      <td>fe97aa22dd3e48c8b143116a8403dd52</td>\n",
       "      <td>0</td>\n",
       "      <td>{'amount': 18.97}</td>\n",
       "      <td>amount</td>\n",
       "      <td>18.97</td>\n",
       "      <td>39</td>\n",
       "      <td>2017-12-17</td>\n",
       "      <td>F</td>\n",
       "      <td>fe97aa22dd3e48c8b143116a8403dd52</td>\n",
       "      <td>67000.0</td>\n",
       "    </tr>\n",
       "  </tbody>\n",
       "</table>\n",
       "</div>"
      ],
      "text/plain": [
       "         event                            person  time  \\\n",
       "0  transaction  02c083884c7d45b39cc68e1314fec56c     0   \n",
       "1  transaction  9fa9ae8f57894cc9a3b8a9bbe0fc1b2f     0   \n",
       "2  transaction  54890f68699049c2a04d415abc25e717     0   \n",
       "3  transaction  b2f1cd155b864803ad8334cdf13c4bd2     0   \n",
       "4  transaction  fe97aa22dd3e48c8b143116a8403dd52     0   \n",
       "\n",
       "                            value type_of_val        value_of_val  age  \\\n",
       "0  {'amount': 0.8300000000000001}      amount  0.8300000000000001   20   \n",
       "1               {'amount': 34.56}      amount               34.56   42   \n",
       "2               {'amount': 13.23}      amount               13.23   36   \n",
       "3               {'amount': 19.51}      amount               19.51   55   \n",
       "4               {'amount': 18.97}      amount               18.97   39   \n",
       "\n",
       "  became_member_on gender                                id   income  \n",
       "0       2016-07-11      F  02c083884c7d45b39cc68e1314fec56c  30000.0  \n",
       "1       2016-01-17      M  9fa9ae8f57894cc9a3b8a9bbe0fc1b2f  96000.0  \n",
       "2       2017-12-28      M  54890f68699049c2a04d415abc25e717  56000.0  \n",
       "3       2017-10-16      F  b2f1cd155b864803ad8334cdf13c4bd2  94000.0  \n",
       "4       2017-12-17      F  fe97aa22dd3e48c8b143116a8403dd52  67000.0  "
      ]
     },
     "execution_count": 5,
     "metadata": {},
     "output_type": "execute_result"
    }
   ],
   "source": [
    "df.head()"
   ]
  },
  {
   "cell_type": "code",
   "execution_count": 6,
   "metadata": {},
   "outputs": [],
   "source": [
    "df.rename(columns={'value_of_val':'amount_spent'},inplace=True)"
   ]
  },
  {
   "cell_type": "code",
   "execution_count": 7,
   "metadata": {},
   "outputs": [
    {
     "name": "stdout",
     "output_type": "stream",
     "text": [
      "118    14996\n",
      "58      3319\n",
      "54      2953\n",
      "51      2911\n",
      "53      2900\n",
      "57      2760\n",
      "55      2754\n",
      "59      2678\n",
      "52      2666\n",
      "63      2594\n",
      "60      2590\n",
      "67      2502\n",
      "56      2445\n",
      "62      2436\n",
      "61      2406\n",
      "49      2376\n",
      "64      2369\n",
      "66      2301\n",
      "48      2281\n",
      "50      2207\n",
      "65      2202\n",
      "68      2042\n",
      "69      1975\n",
      "45      1937\n",
      "40      1894\n",
      "43      1880\n",
      "47      1871\n",
      "39      1848\n",
      "37      1846\n",
      "70      1837\n",
      "       ...  \n",
      "76      1242\n",
      "22      1231\n",
      "75      1181\n",
      "77      1132\n",
      "78      1056\n",
      "31      1013\n",
      "83       921\n",
      "80       874\n",
      "81       861\n",
      "82       844\n",
      "79       838\n",
      "18       699\n",
      "84       661\n",
      "87       554\n",
      "85       545\n",
      "88       477\n",
      "89       428\n",
      "86       408\n",
      "90       339\n",
      "91       336\n",
      "92       323\n",
      "94       247\n",
      "93       240\n",
      "95       159\n",
      "100      108\n",
      "97       103\n",
      "96        47\n",
      "101       47\n",
      "98        46\n",
      "99        35\n",
      "Name: age, Length: 85, dtype: int64\n",
      "Gender null values: 14996\n",
      "Income null values: 14996\n"
     ]
    }
   ],
   "source": [
    "# finding columns which have null values\n",
    "print(df.age.value_counts())\n",
    "print('Gender null values:',df.gender.isnull().sum())\n",
    "print('Income null values:',df.income.isnull().sum())"
   ]
  },
  {
   "cell_type": "code",
   "execution_count": 8,
   "metadata": {},
   "outputs": [],
   "source": [
    "df['age'].replace(118,np.nan,inplace=True)"
   ]
  },
  {
   "cell_type": "code",
   "execution_count": 9,
   "metadata": {},
   "outputs": [
    {
     "data": {
      "text/plain": [
       "14996"
      ]
     },
     "execution_count": 9,
     "metadata": {},
     "output_type": "execute_result"
    }
   ],
   "source": [
    "df.age.isnull().sum()"
   ]
  },
  {
   "cell_type": "code",
   "execution_count": 10,
   "metadata": {},
   "outputs": [],
   "source": [
    "df['age'].fillna(df['age'].mean(), inplace=True)"
   ]
  },
  {
   "cell_type": "code",
   "execution_count": 11,
   "metadata": {},
   "outputs": [
    {
     "data": {
      "text/plain": [
       "0"
      ]
     },
     "execution_count": 11,
     "metadata": {},
     "output_type": "execute_result"
    }
   ],
   "source": [
    "df.age.isnull().sum()"
   ]
  },
  {
   "cell_type": "code",
   "execution_count": 12,
   "metadata": {},
   "outputs": [],
   "source": [
    "df.loc[df['age'] <= 20, 'age_band']=1 \n",
    "df.loc[(df['age'] > 20)&(df['age'] <= 40), 'age_band']=2 \n",
    "df.loc[(df['age'] > 40)&(df['age'] <= 60), 'age_band']=3\n",
    "df.loc[(df['age'] > 60)&(df['age'] <= 80), 'age_band']=4\n",
    "df.loc[df['age'] > 80, 'age_band']=4"
   ]
  },
  {
   "cell_type": "code",
   "execution_count": 13,
   "metadata": {},
   "outputs": [],
   "source": [
    "df.loc[df['gender'] == 'M', 'gender_band']=1 \n",
    "df.loc[df['gender'] == 'F', 'gender_band']=2\n",
    "df.loc[df['gender'] == 'O', 'gender_band']=3 "
   ]
  },
  {
   "cell_type": "code",
   "execution_count": 14,
   "metadata": {},
   "outputs": [
    {
     "data": {
      "text/plain": [
       "array([ 2.,  1., nan,  3.])"
      ]
     },
     "execution_count": 14,
     "metadata": {},
     "output_type": "execute_result"
    }
   ],
   "source": [
    "df.gender_band.unique()"
   ]
  },
  {
   "cell_type": "code",
   "execution_count": 15,
   "metadata": {},
   "outputs": [
    {
     "data": {
      "text/html": [
       "<div>\n",
       "<style scoped>\n",
       "    .dataframe tbody tr th:only-of-type {\n",
       "        vertical-align: middle;\n",
       "    }\n",
       "\n",
       "    .dataframe tbody tr th {\n",
       "        vertical-align: top;\n",
       "    }\n",
       "\n",
       "    .dataframe thead th {\n",
       "        text-align: right;\n",
       "    }\n",
       "</style>\n",
       "<table border=\"1\" class=\"dataframe\">\n",
       "  <thead>\n",
       "    <tr style=\"text-align: right;\">\n",
       "      <th></th>\n",
       "      <th>event</th>\n",
       "      <th>person</th>\n",
       "      <th>time</th>\n",
       "      <th>value</th>\n",
       "      <th>type_of_val</th>\n",
       "      <th>amount_spent</th>\n",
       "      <th>age</th>\n",
       "      <th>became_member_on</th>\n",
       "      <th>gender</th>\n",
       "      <th>id</th>\n",
       "      <th>income</th>\n",
       "      <th>age_band</th>\n",
       "      <th>gender_band</th>\n",
       "      <th>Year</th>\n",
       "      <th>Month</th>\n",
       "      <th>Day</th>\n",
       "    </tr>\n",
       "  </thead>\n",
       "  <tbody>\n",
       "    <tr>\n",
       "      <th>0</th>\n",
       "      <td>transaction</td>\n",
       "      <td>02c083884c7d45b39cc68e1314fec56c</td>\n",
       "      <td>0</td>\n",
       "      <td>{'amount': 0.8300000000000001}</td>\n",
       "      <td>amount</td>\n",
       "      <td>0.8300000000000001</td>\n",
       "      <td>20.0</td>\n",
       "      <td>2016-07-11</td>\n",
       "      <td>F</td>\n",
       "      <td>02c083884c7d45b39cc68e1314fec56c</td>\n",
       "      <td>30000.0</td>\n",
       "      <td>1.0</td>\n",
       "      <td>2.0</td>\n",
       "      <td>2016</td>\n",
       "      <td>7</td>\n",
       "      <td>11</td>\n",
       "    </tr>\n",
       "    <tr>\n",
       "      <th>1</th>\n",
       "      <td>transaction</td>\n",
       "      <td>9fa9ae8f57894cc9a3b8a9bbe0fc1b2f</td>\n",
       "      <td>0</td>\n",
       "      <td>{'amount': 34.56}</td>\n",
       "      <td>amount</td>\n",
       "      <td>34.56</td>\n",
       "      <td>42.0</td>\n",
       "      <td>2016-01-17</td>\n",
       "      <td>M</td>\n",
       "      <td>9fa9ae8f57894cc9a3b8a9bbe0fc1b2f</td>\n",
       "      <td>96000.0</td>\n",
       "      <td>3.0</td>\n",
       "      <td>1.0</td>\n",
       "      <td>2016</td>\n",
       "      <td>1</td>\n",
       "      <td>17</td>\n",
       "    </tr>\n",
       "    <tr>\n",
       "      <th>2</th>\n",
       "      <td>transaction</td>\n",
       "      <td>54890f68699049c2a04d415abc25e717</td>\n",
       "      <td>0</td>\n",
       "      <td>{'amount': 13.23}</td>\n",
       "      <td>amount</td>\n",
       "      <td>13.23</td>\n",
       "      <td>36.0</td>\n",
       "      <td>2017-12-28</td>\n",
       "      <td>M</td>\n",
       "      <td>54890f68699049c2a04d415abc25e717</td>\n",
       "      <td>56000.0</td>\n",
       "      <td>2.0</td>\n",
       "      <td>1.0</td>\n",
       "      <td>2017</td>\n",
       "      <td>12</td>\n",
       "      <td>28</td>\n",
       "    </tr>\n",
       "    <tr>\n",
       "      <th>3</th>\n",
       "      <td>transaction</td>\n",
       "      <td>b2f1cd155b864803ad8334cdf13c4bd2</td>\n",
       "      <td>0</td>\n",
       "      <td>{'amount': 19.51}</td>\n",
       "      <td>amount</td>\n",
       "      <td>19.51</td>\n",
       "      <td>55.0</td>\n",
       "      <td>2017-10-16</td>\n",
       "      <td>F</td>\n",
       "      <td>b2f1cd155b864803ad8334cdf13c4bd2</td>\n",
       "      <td>94000.0</td>\n",
       "      <td>3.0</td>\n",
       "      <td>2.0</td>\n",
       "      <td>2017</td>\n",
       "      <td>10</td>\n",
       "      <td>16</td>\n",
       "    </tr>\n",
       "    <tr>\n",
       "      <th>4</th>\n",
       "      <td>transaction</td>\n",
       "      <td>fe97aa22dd3e48c8b143116a8403dd52</td>\n",
       "      <td>0</td>\n",
       "      <td>{'amount': 18.97}</td>\n",
       "      <td>amount</td>\n",
       "      <td>18.97</td>\n",
       "      <td>39.0</td>\n",
       "      <td>2017-12-17</td>\n",
       "      <td>F</td>\n",
       "      <td>fe97aa22dd3e48c8b143116a8403dd52</td>\n",
       "      <td>67000.0</td>\n",
       "      <td>2.0</td>\n",
       "      <td>2.0</td>\n",
       "      <td>2017</td>\n",
       "      <td>12</td>\n",
       "      <td>17</td>\n",
       "    </tr>\n",
       "  </tbody>\n",
       "</table>\n",
       "</div>"
      ],
      "text/plain": [
       "         event                            person  time  \\\n",
       "0  transaction  02c083884c7d45b39cc68e1314fec56c     0   \n",
       "1  transaction  9fa9ae8f57894cc9a3b8a9bbe0fc1b2f     0   \n",
       "2  transaction  54890f68699049c2a04d415abc25e717     0   \n",
       "3  transaction  b2f1cd155b864803ad8334cdf13c4bd2     0   \n",
       "4  transaction  fe97aa22dd3e48c8b143116a8403dd52     0   \n",
       "\n",
       "                            value type_of_val        amount_spent   age  \\\n",
       "0  {'amount': 0.8300000000000001}      amount  0.8300000000000001  20.0   \n",
       "1               {'amount': 34.56}      amount               34.56  42.0   \n",
       "2               {'amount': 13.23}      amount               13.23  36.0   \n",
       "3               {'amount': 19.51}      amount               19.51  55.0   \n",
       "4               {'amount': 18.97}      amount               18.97  39.0   \n",
       "\n",
       "  became_member_on gender                                id   income  \\\n",
       "0       2016-07-11      F  02c083884c7d45b39cc68e1314fec56c  30000.0   \n",
       "1       2016-01-17      M  9fa9ae8f57894cc9a3b8a9bbe0fc1b2f  96000.0   \n",
       "2       2017-12-28      M  54890f68699049c2a04d415abc25e717  56000.0   \n",
       "3       2017-10-16      F  b2f1cd155b864803ad8334cdf13c4bd2  94000.0   \n",
       "4       2017-12-17      F  fe97aa22dd3e48c8b143116a8403dd52  67000.0   \n",
       "\n",
       "   age_band  gender_band  Year  Month  Day  \n",
       "0       1.0          2.0  2016      7   11  \n",
       "1       3.0          1.0  2016      1   17  \n",
       "2       2.0          1.0  2017     12   28  \n",
       "3       3.0          2.0  2017     10   16  \n",
       "4       2.0          2.0  2017     12   17  "
      ]
     },
     "execution_count": 15,
     "metadata": {},
     "output_type": "execute_result"
    }
   ],
   "source": [
    "df['Year'] = df['became_member_on'].dt.year\n",
    "df['Month'] = df['became_member_on'].dt.month\n",
    "df['Day'] = df['became_member_on'].dt.day\n",
    "df.head()"
   ]
  },
  {
   "cell_type": "code",
   "execution_count": 16,
   "metadata": {},
   "outputs": [],
   "source": [
    "df_to_impute=df[['time','amount_spent','age','gender_band','income','age_band','Year','Month','Day']]"
   ]
  },
  {
   "cell_type": "code",
   "execution_count": 17,
   "metadata": {},
   "outputs": [],
   "source": [
    "knn_imputer=KNNImputer()\n",
    "\n",
    "df_after_impute=knn_imputer.fit_transform(df_to_impute)"
   ]
  },
  {
   "cell_type": "code",
   "execution_count": 18,
   "metadata": {},
   "outputs": [],
   "source": [
    "new_df=pd.DataFrame(df_after_impute,columns=df_to_impute.columns)"
   ]
  },
  {
   "cell_type": "code",
   "execution_count": 19,
   "metadata": {},
   "outputs": [
    {
     "data": {
      "text/html": [
       "<div>\n",
       "<style scoped>\n",
       "    .dataframe tbody tr th:only-of-type {\n",
       "        vertical-align: middle;\n",
       "    }\n",
       "\n",
       "    .dataframe tbody tr th {\n",
       "        vertical-align: top;\n",
       "    }\n",
       "\n",
       "    .dataframe thead th {\n",
       "        text-align: right;\n",
       "    }\n",
       "</style>\n",
       "<table border=\"1\" class=\"dataframe\">\n",
       "  <thead>\n",
       "    <tr style=\"text-align: right;\">\n",
       "      <th></th>\n",
       "      <th>time</th>\n",
       "      <th>amount_spent</th>\n",
       "      <th>age</th>\n",
       "      <th>gender_band</th>\n",
       "      <th>income</th>\n",
       "      <th>age_band</th>\n",
       "      <th>Year</th>\n",
       "      <th>Month</th>\n",
       "      <th>Day</th>\n",
       "    </tr>\n",
       "  </thead>\n",
       "  <tbody>\n",
       "    <tr>\n",
       "      <th>0</th>\n",
       "      <td>0.0</td>\n",
       "      <td>0.83</td>\n",
       "      <td>20.0</td>\n",
       "      <td>2.0</td>\n",
       "      <td>30000.0</td>\n",
       "      <td>1.0</td>\n",
       "      <td>2016.0</td>\n",
       "      <td>7.0</td>\n",
       "      <td>11.0</td>\n",
       "    </tr>\n",
       "    <tr>\n",
       "      <th>1</th>\n",
       "      <td>0.0</td>\n",
       "      <td>34.56</td>\n",
       "      <td>42.0</td>\n",
       "      <td>1.0</td>\n",
       "      <td>96000.0</td>\n",
       "      <td>3.0</td>\n",
       "      <td>2016.0</td>\n",
       "      <td>1.0</td>\n",
       "      <td>17.0</td>\n",
       "    </tr>\n",
       "    <tr>\n",
       "      <th>2</th>\n",
       "      <td>0.0</td>\n",
       "      <td>13.23</td>\n",
       "      <td>36.0</td>\n",
       "      <td>1.0</td>\n",
       "      <td>56000.0</td>\n",
       "      <td>2.0</td>\n",
       "      <td>2017.0</td>\n",
       "      <td>12.0</td>\n",
       "      <td>28.0</td>\n",
       "    </tr>\n",
       "    <tr>\n",
       "      <th>3</th>\n",
       "      <td>0.0</td>\n",
       "      <td>19.51</td>\n",
       "      <td>55.0</td>\n",
       "      <td>2.0</td>\n",
       "      <td>94000.0</td>\n",
       "      <td>3.0</td>\n",
       "      <td>2017.0</td>\n",
       "      <td>10.0</td>\n",
       "      <td>16.0</td>\n",
       "    </tr>\n",
       "    <tr>\n",
       "      <th>4</th>\n",
       "      <td>0.0</td>\n",
       "      <td>18.97</td>\n",
       "      <td>39.0</td>\n",
       "      <td>2.0</td>\n",
       "      <td>67000.0</td>\n",
       "      <td>2.0</td>\n",
       "      <td>2017.0</td>\n",
       "      <td>12.0</td>\n",
       "      <td>17.0</td>\n",
       "    </tr>\n",
       "  </tbody>\n",
       "</table>\n",
       "</div>"
      ],
      "text/plain": [
       "   time  amount_spent   age  gender_band   income  age_band    Year  Month  \\\n",
       "0   0.0          0.83  20.0          2.0  30000.0       1.0  2016.0    7.0   \n",
       "1   0.0         34.56  42.0          1.0  96000.0       3.0  2016.0    1.0   \n",
       "2   0.0         13.23  36.0          1.0  56000.0       2.0  2017.0   12.0   \n",
       "3   0.0         19.51  55.0          2.0  94000.0       3.0  2017.0   10.0   \n",
       "4   0.0         18.97  39.0          2.0  67000.0       2.0  2017.0   12.0   \n",
       "\n",
       "    Day  \n",
       "0  11.0  \n",
       "1  17.0  \n",
       "2  28.0  \n",
       "3  16.0  \n",
       "4  17.0  "
      ]
     },
     "execution_count": 19,
     "metadata": {},
     "output_type": "execute_result"
    }
   ],
   "source": [
    "new_df.head()"
   ]
  },
  {
   "cell_type": "code",
   "execution_count": 20,
   "metadata": {},
   "outputs": [],
   "source": [
    "new_df['Transaction_frequency'] = df.groupby(['Year', 'Month', 'Day']).transform('count')['time']\n"
   ]
  },
  {
   "cell_type": "code",
   "execution_count": 21,
   "metadata": {},
   "outputs": [
    {
     "data": {
      "text/plain": [
       "0"
      ]
     },
     "execution_count": 21,
     "metadata": {},
     "output_type": "execute_result"
    }
   ],
   "source": [
    "new_df.Transaction_frequency.isnull().sum()"
   ]
  },
  {
   "cell_type": "code",
   "execution_count": 22,
   "metadata": {},
   "outputs": [],
   "source": [
    "new_df['IncomeAgeRatio'] = new_df['income'] / new_df['age']"
   ]
  },
  {
   "cell_type": "code",
   "execution_count": 23,
   "metadata": {},
   "outputs": [],
   "source": [
    "new_df['IsSummer'] = new_df['Month'].isin([6, 7, 8])  #  Summer months\n"
   ]
  },
  {
   "cell_type": "code",
   "execution_count": 24,
   "metadata": {},
   "outputs": [],
   "source": [
    "new_df['AmountPerTransaction'] = new_df['amount_spent'] / new_df['Transaction_frequency']\n"
   ]
  },
  {
   "cell_type": "code",
   "execution_count": 25,
   "metadata": {},
   "outputs": [],
   "source": [
    "X=new_df[['time','age','income','Year','Month','Day','Transaction_frequency','IncomeAgeRatio','IsSummer','AmountPerTransaction']]\n",
    "y=new_df[['amount_spent']]\n",
    "y=y.values.ravel()"
   ]
  },
  {
   "cell_type": "code",
   "execution_count": 26,
   "metadata": {},
   "outputs": [
    {
     "data": {
      "text/html": [
       "<div>\n",
       "<style scoped>\n",
       "    .dataframe tbody tr th:only-of-type {\n",
       "        vertical-align: middle;\n",
       "    }\n",
       "\n",
       "    .dataframe tbody tr th {\n",
       "        vertical-align: top;\n",
       "    }\n",
       "\n",
       "    .dataframe thead th {\n",
       "        text-align: right;\n",
       "    }\n",
       "</style>\n",
       "<table border=\"1\" class=\"dataframe\">\n",
       "  <thead>\n",
       "    <tr style=\"text-align: right;\">\n",
       "      <th></th>\n",
       "      <th>time</th>\n",
       "      <th>age</th>\n",
       "      <th>income</th>\n",
       "      <th>Year</th>\n",
       "      <th>Month</th>\n",
       "      <th>Day</th>\n",
       "      <th>Transaction_frequency</th>\n",
       "      <th>IncomeAgeRatio</th>\n",
       "      <th>IsSummer</th>\n",
       "      <th>AmountPerTransaction</th>\n",
       "    </tr>\n",
       "  </thead>\n",
       "  <tbody>\n",
       "    <tr>\n",
       "      <th>0</th>\n",
       "      <td>0.0</td>\n",
       "      <td>20.0</td>\n",
       "      <td>30000.0</td>\n",
       "      <td>2016.0</td>\n",
       "      <td>7.0</td>\n",
       "      <td>11.0</td>\n",
       "      <td>139</td>\n",
       "      <td>1500.000000</td>\n",
       "      <td>True</td>\n",
       "      <td>0.005971</td>\n",
       "    </tr>\n",
       "    <tr>\n",
       "      <th>1</th>\n",
       "      <td>0.0</td>\n",
       "      <td>42.0</td>\n",
       "      <td>96000.0</td>\n",
       "      <td>2016.0</td>\n",
       "      <td>1.0</td>\n",
       "      <td>17.0</td>\n",
       "      <td>181</td>\n",
       "      <td>2285.714286</td>\n",
       "      <td>False</td>\n",
       "      <td>0.190939</td>\n",
       "    </tr>\n",
       "    <tr>\n",
       "      <th>2</th>\n",
       "      <td>0.0</td>\n",
       "      <td>36.0</td>\n",
       "      <td>56000.0</td>\n",
       "      <td>2017.0</td>\n",
       "      <td>12.0</td>\n",
       "      <td>28.0</td>\n",
       "      <td>155</td>\n",
       "      <td>1555.555556</td>\n",
       "      <td>False</td>\n",
       "      <td>0.085355</td>\n",
       "    </tr>\n",
       "    <tr>\n",
       "      <th>3</th>\n",
       "      <td>0.0</td>\n",
       "      <td>55.0</td>\n",
       "      <td>94000.0</td>\n",
       "      <td>2017.0</td>\n",
       "      <td>10.0</td>\n",
       "      <td>16.0</td>\n",
       "      <td>210</td>\n",
       "      <td>1709.090909</td>\n",
       "      <td>False</td>\n",
       "      <td>0.092905</td>\n",
       "    </tr>\n",
       "    <tr>\n",
       "      <th>4</th>\n",
       "      <td>0.0</td>\n",
       "      <td>39.0</td>\n",
       "      <td>67000.0</td>\n",
       "      <td>2017.0</td>\n",
       "      <td>12.0</td>\n",
       "      <td>17.0</td>\n",
       "      <td>247</td>\n",
       "      <td>1717.948718</td>\n",
       "      <td>False</td>\n",
       "      <td>0.076802</td>\n",
       "    </tr>\n",
       "  </tbody>\n",
       "</table>\n",
       "</div>"
      ],
      "text/plain": [
       "   time   age   income    Year  Month   Day  Transaction_frequency  \\\n",
       "0   0.0  20.0  30000.0  2016.0    7.0  11.0                    139   \n",
       "1   0.0  42.0  96000.0  2016.0    1.0  17.0                    181   \n",
       "2   0.0  36.0  56000.0  2017.0   12.0  28.0                    155   \n",
       "3   0.0  55.0  94000.0  2017.0   10.0  16.0                    210   \n",
       "4   0.0  39.0  67000.0  2017.0   12.0  17.0                    247   \n",
       "\n",
       "   IncomeAgeRatio  IsSummer  AmountPerTransaction  \n",
       "0     1500.000000      True              0.005971  \n",
       "1     2285.714286     False              0.190939  \n",
       "2     1555.555556     False              0.085355  \n",
       "3     1709.090909     False              0.092905  \n",
       "4     1717.948718     False              0.076802  "
      ]
     },
     "execution_count": 26,
     "metadata": {},
     "output_type": "execute_result"
    }
   ],
   "source": [
    "X.head()"
   ]
  },
  {
   "cell_type": "code",
   "execution_count": 27,
   "metadata": {},
   "outputs": [
    {
     "name": "stdout",
     "output_type": "stream",
     "text": [
      "Mean Squared Error is: 15.651566438602334\n",
      "R2 score is: 0.9835297093521707\n",
      "Mean Absolute Error is: 0.2442438881350925\n"
     ]
    }
   ],
   "source": [
    "# Split the data into training and testing sets\n",
    "X_train, X_test, y_train, y_test = train_test_split(X, y, test_size=0.2, random_state=42)\n",
    "\n",
    "# Create a Random Forest Regressor model\n",
    "rf_model = RandomForestRegressor(n_estimators=200, max_depth=15, min_samples_split=5, min_samples_leaf=2, random_state=42)\n",
    "\n",
    "# Fit the model on the training data\n",
    "rf_model.fit(X_train, y_train)\n",
    "\n",
    "# Make predictions on the test data\n",
    "predictions = rf_model.predict(X_test)\n",
    "\n",
    "# Evaluate the model (for regression, you might use metrics like Mean Squared Error)\n",
    "mse = mean_squared_error(y_test, predictions)\n",
    "r2=r2_score(y_test, predictions)\n",
    "mae=mean_absolute_error(y_test,predictions)\n",
    "\n",
    "print('Mean Squared Error is:',mse)\n",
    "print('R2 score is:',r2)\n",
    "print('Mean Absolute Error is:',mae)\n",
    "\n",
    "rf_scores=[r2,mse,mae]"
   ]
  },
  {
   "cell_type": "code",
   "execution_count": 28,
   "metadata": {},
   "outputs": [
    {
     "name": "stdout",
     "output_type": "stream",
     "text": [
      "Mean Squared Error is: 11.801363532007455\n",
      "R2 score is: 0.9875813141019888\n",
      "Mean Absolute Error is: 0.467415459757932\n"
     ]
    }
   ],
   "source": [
    "gb_model = GradientBoostingRegressor(n_estimators=100, max_depth=5, random_state=42)\n",
    "\n",
    "gb_model.fit(X_train, y_train)\n",
    "\n",
    "\n",
    "predictions = gb_model.predict(X_test)\n",
    "\n",
    "\n",
    "mse = mean_squared_error(y_test, predictions)\n",
    "r2=r2_score(y_test, predictions)\n",
    "mae=mean_absolute_error(y_test,predictions)\n",
    "\n",
    "print('Mean Squared Error is:',mse)\n",
    "print('R2 score is:',r2)\n",
    "print('Mean Absolute Error is:',mae)\n",
    "gb_scores=[r2,mse,mae]"
   ]
  },
  {
   "cell_type": "code",
   "execution_count": 29,
   "metadata": {},
   "outputs": [
    {
     "name": "stdout",
     "output_type": "stream",
     "text": [
      "Mean Squared Error: 222.6683368804496\n",
      "Mean Absolute Error: 11.418590885315322\n",
      "R2 score is: -211.3574116120804\n"
     ]
    }
   ],
   "source": [
    "scaler = StandardScaler()\n",
    "y_train_reshaped = y_train.reshape(-1, 1)\n",
    "y_test_reshaped=y_test.reshape(-1, 1)\n",
    "X_train_scaled = scaler.fit_transform(X_train)\n",
    "X_test_scaled = scaler.transform(X_test)\n",
    "y_train_scaled = scaler.fit_transform(y_train_reshaped)\n",
    "y_test_scaled = scaler.transform(y_test_reshaped)\n",
    "\n",
    "svr_model = SVR(\n",
    "    kernel='rbf',          \n",
    "    C=1.0,                 \n",
    "    epsilon=0.1            \n",
    ")\n",
    "\n",
    "\n",
    "svr_model.fit(X_train_scaled, y_train)\n",
    "\n",
    "y_pred = svr_model.predict(X_test_scaled)\n",
    "\n",
    "mse = mean_squared_error(y_test_scaled, y_pred)\n",
    "mae = mean_absolute_error(y_test_scaled, y_pred)\n",
    "r2 = r2_score(y_test_scaled, y_pred)\n",
    "\n",
    "print(\"Mean Squared Error:\", mse)\n",
    "print(\"Mean Absolute Error:\", mae)\n",
    "print(\"R2 score is:\", r2)\n",
    "\n",
    "svr_scores=[r2,mse,mae]"
   ]
  },
  {
   "cell_type": "code",
   "execution_count": 30,
   "metadata": {},
   "outputs": [
    {
     "name": "stdout",
     "output_type": "stream",
     "text": [
      "Mean Squared Error: 0.1237239260162371\n",
      "Mean Absolute Error: 0.13816591523483576\n",
      "R2 score is: 0.8820052592506722\n"
     ]
    }
   ],
   "source": [
    "scaler = StandardScaler()\n",
    "y_train_reshaped = y_train.reshape(-1, 1)\n",
    "y_test_reshaped=y_test.reshape(-1, 1)\n",
    "X_train_scaled = scaler.fit_transform(X_train)\n",
    "X_test_scaled = scaler.transform(X_test)\n",
    "y_train_scaled = scaler.fit_transform(y_train_reshaped)\n",
    "y_test_scaled = scaler.transform(y_test_reshaped)\n",
    "\n",
    "\n",
    "knn_model = KNeighborsRegressor(\n",
    "    n_neighbors=5,          \n",
    "    weights='distance',      \n",
    "    algorithm='auto'         \n",
    ")\n",
    "\n",
    "knn_model.fit(X_train_scaled, y_train_scaled)\n",
    "\n",
    "y_pred = knn_model.predict(X_test_scaled)\n",
    "\n",
    "mse = mean_squared_error(y_test_scaled, y_pred)\n",
    "mae = mean_absolute_error(y_test_scaled, y_pred)\n",
    "r2 = r2_score(y_test_scaled, y_pred)\n",
    "\n",
    "print(\"Mean Squared Error:\", mse)\n",
    "print(\"Mean Absolute Error:\", mae)\n",
    "print(\"R2 score is:\", r2)\n",
    "\n",
    "knn_scores=[r2,mse,mae]"
   ]
  },
  {
   "cell_type": "code",
   "execution_count": 31,
   "metadata": {},
   "outputs": [
    {
     "name": "stdout",
     "output_type": "stream",
     "text": [
      "                     R2 Score  Mean Squared Error  Mean Absolute Error\n",
      "Random Forest        0.983530           15.651566             0.244244\n",
      "Gradient Boosting    0.987581           11.801364             0.467415\n",
      "SVR               -211.357412          222.668337            11.418591\n",
      "KNN                  0.882005            0.123724             0.138166\n"
     ]
    }
   ],
   "source": [
    "#Tabular Representation of models and their evaluations\n",
    "columns = ['R2 Score', 'Mean Squared Error', 'Mean Absolute Error']\n",
    "index = ['Random Forest', 'Gradient Boosting', 'SVR', 'KNN']\n",
    "\n",
    "data = [rf_scores, gb_scores, svr_scores, knn_scores]\n",
    "\n",
    "score_df = pd.DataFrame(data, columns=columns, index=index)\n",
    "\n",
    "print(score_df)"
   ]
  },
  {
   "cell_type": "code",
   "execution_count": 36,
   "metadata": {},
   "outputs": [
    {
     "name": "stdout",
     "output_type": "stream",
     "text": [
      "Cross-Validation Results:\n",
      "   R2 Score  Mean Absolute Error  Mean Squared Error\n",
      "0  0.985868             0.241314           13.571221\n",
      "1  0.977882             0.243227           19.152206\n",
      "2  0.983556             0.215480           11.264860\n",
      "3  0.982300             0.268867           17.844766\n",
      "4  0.973491             0.291124           26.821930\n"
     ]
    }
   ],
   "source": [
    "scoring = {\n",
    "    'r2': make_scorer(r2_score),\n",
    "    'mae': make_scorer(mean_absolute_error),\n",
    "    'mse': make_scorer(mean_squared_error)\n",
    "}\n",
    "\n",
    "# Apply cross-validation and print the results\n",
    "cv_results = cross_validate(rf_model, X=X_train, y=y_train, cv=5, scoring=scoring)\n",
    "\n",
    "# Create a DataFrame to display the results\n",
    "cv_results_df = pd.DataFrame({\n",
    "    'R2 Score': cv_results['test_r2'],\n",
    "    'Mean Absolute Error': cv_results['test_mae'],\n",
    "    'Mean Squared Error': cv_results['test_mse']\n",
    "})\n",
    "\n",
    "# Display the cross-validation results\n",
    "print(\"Cross-Validation Results:\")\n",
    "print(cv_results_df)\n"
   ]
  },
  {
   "cell_type": "code",
   "execution_count": 40,
   "metadata": {},
   "outputs": [
    {
     "name": "stdout",
     "output_type": "stream",
     "text": [
      "R2 mean after cv=5 is : 0.9806193161780363\n",
      "Mean Absolute Error after cv=5 is : 0.25200235411024785\n",
      "Mean Squared Error after cv=5 is : 17.73099678962206\n"
     ]
    }
   ],
   "source": [
    "print('R2 mean after cv=5 is :',cv_results_df['R2 Score'].mean())\n",
    "print('Mean Absolute Error after cv=5 is :',cv_results_df['Mean Absolute Error'].mean())\n",
    "print('Mean Squared Error after cv=5 is :',cv_results_df['Mean Squared Error'].mean())"
   ]
  },
  {
   "cell_type": "code",
   "execution_count": 59,
   "metadata": {},
   "outputs": [
    {
     "name": "stdout",
     "output_type": "stream",
     "text": [
      "Best hyperparameters: {'max_depth': 15, 'min_samples_split': 5, 'n_estimators': 200}\n"
     ]
    }
   ],
   "source": [
    "param_grid = {\n",
    "    'n_estimators':[100,200],\n",
    "    'max_depth': [10, 15],\n",
    "    'min_samples_split': [5, 10]\n",
    "}\n",
    "\n",
    "\n",
    "grid_search = GridSearchCV(RandomForestRegressor( random_state=42), param_grid, cv=5, scoring='r2')\n",
    "grid_search.fit(X_train, y_train)\n",
    "\n",
    "best_params = grid_search.best_params_\n",
    "print(\"Best hyperparameters:\", best_params)"
   ]
  },
  {
   "cell_type": "code",
   "execution_count": 33,
   "metadata": {},
   "outputs": [
    {
     "name": "stdout",
     "output_type": "stream",
     "text": [
      "Feature importances: AmountPerTransaction     0.620201\n",
      "Transaction_frequency    0.329707\n",
      "income                   0.043249\n",
      "time                     0.001846\n",
      "age                      0.001260\n",
      "Day                      0.001168\n",
      "IncomeAgeRatio           0.001162\n",
      "Year                     0.000564\n",
      "Month                    0.000562\n",
      "IsSummer                 0.000282\n",
      "dtype: float64\n"
     ]
    }
   ],
   "source": [
    "feature_importances = pd.Series(rf_model.feature_importances_, index=X.columns)\n",
    "feature_importances.sort_values(ascending=False, inplace=True)\n",
    "print(\"Feature importances:\", feature_importances)"
   ]
  }
 ],
 "metadata": {
  "kernelspec": {
   "display_name": "Python 3",
   "language": "python",
   "name": "python3"
  },
  "language_info": {
   "codemirror_mode": {
    "name": "ipython",
    "version": 3
   },
   "file_extension": ".py",
   "mimetype": "text/x-python",
   "name": "python",
   "nbconvert_exporter": "python",
   "pygments_lexer": "ipython3",
   "version": "3.6.3"
  }
 },
 "nbformat": 4,
 "nbformat_minor": 2
}
